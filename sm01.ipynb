{
 "cells": [
  {
   "cell_type": "code",
   "execution_count": 1,
   "metadata": {},
   "outputs": [],
   "source": [
    "import statsmodels.api as sm\n",
    "import pandas as pd\n",
    "from patsy import dmatrices"
   ]
  },
  {
   "cell_type": "markdown",
   "metadata": {},
   "source": [
    "在statsmodels中，因变量与自变量分别对应内生变量（endog）与外生变量(exog)"
   ]
  },
  {
   "cell_type": "code",
   "execution_count": 2,
   "metadata": {},
   "outputs": [],
   "source": [
    "df = pd.read_csv('Rdatasets-master/csv/HistData/Guerry.csv',\n",
    "                index_col=0) "
   ]
  },
  {
   "cell_type": "code",
   "execution_count": 3,
   "metadata": {},
   "outputs": [],
   "source": [
    "vars = ['Department','Lottery','Literacy','Wealth','Region']\n",
    "df = df[vars]"
   ]
  },
  {
   "cell_type": "code",
   "execution_count": 4,
   "metadata": {},
   "outputs": [],
   "source": [
    "df = df.dropna()"
   ]
  },
  {
   "cell_type": "code",
   "execution_count": 5,
   "metadata": {},
   "outputs": [
    {
     "data": {
      "text/html": [
       "<div>\n",
       "<style scoped>\n",
       "    .dataframe tbody tr th:only-of-type {\n",
       "        vertical-align: middle;\n",
       "    }\n",
       "\n",
       "    .dataframe tbody tr th {\n",
       "        vertical-align: top;\n",
       "    }\n",
       "\n",
       "    .dataframe thead th {\n",
       "        text-align: right;\n",
       "    }\n",
       "</style>\n",
       "<table border=\"1\" class=\"dataframe\">\n",
       "  <thead>\n",
       "    <tr style=\"text-align: right;\">\n",
       "      <th></th>\n",
       "      <th>Department</th>\n",
       "      <th>Lottery</th>\n",
       "      <th>Literacy</th>\n",
       "      <th>Wealth</th>\n",
       "      <th>Region</th>\n",
       "    </tr>\n",
       "  </thead>\n",
       "  <tbody>\n",
       "    <tr>\n",
       "      <th>1</th>\n",
       "      <td>Ain</td>\n",
       "      <td>41</td>\n",
       "      <td>37</td>\n",
       "      <td>73</td>\n",
       "      <td>E</td>\n",
       "    </tr>\n",
       "    <tr>\n",
       "      <th>2</th>\n",
       "      <td>Aisne</td>\n",
       "      <td>38</td>\n",
       "      <td>51</td>\n",
       "      <td>22</td>\n",
       "      <td>N</td>\n",
       "    </tr>\n",
       "    <tr>\n",
       "      <th>3</th>\n",
       "      <td>Allier</td>\n",
       "      <td>66</td>\n",
       "      <td>13</td>\n",
       "      <td>61</td>\n",
       "      <td>C</td>\n",
       "    </tr>\n",
       "    <tr>\n",
       "      <th>4</th>\n",
       "      <td>Basses-Alpes</td>\n",
       "      <td>80</td>\n",
       "      <td>46</td>\n",
       "      <td>76</td>\n",
       "      <td>E</td>\n",
       "    </tr>\n",
       "    <tr>\n",
       "      <th>5</th>\n",
       "      <td>Hautes-Alpes</td>\n",
       "      <td>79</td>\n",
       "      <td>69</td>\n",
       "      <td>83</td>\n",
       "      <td>E</td>\n",
       "    </tr>\n",
       "    <tr>\n",
       "      <th>...</th>\n",
       "      <td>...</td>\n",
       "      <td>...</td>\n",
       "      <td>...</td>\n",
       "      <td>...</td>\n",
       "      <td>...</td>\n",
       "    </tr>\n",
       "    <tr>\n",
       "      <th>81</th>\n",
       "      <td>Vendee</td>\n",
       "      <td>68</td>\n",
       "      <td>28</td>\n",
       "      <td>56</td>\n",
       "      <td>W</td>\n",
       "    </tr>\n",
       "    <tr>\n",
       "      <th>82</th>\n",
       "      <td>Vienne</td>\n",
       "      <td>40</td>\n",
       "      <td>25</td>\n",
       "      <td>68</td>\n",
       "      <td>W</td>\n",
       "    </tr>\n",
       "    <tr>\n",
       "      <th>83</th>\n",
       "      <td>Haute-Vienne</td>\n",
       "      <td>55</td>\n",
       "      <td>13</td>\n",
       "      <td>67</td>\n",
       "      <td>C</td>\n",
       "    </tr>\n",
       "    <tr>\n",
       "      <th>84</th>\n",
       "      <td>Vosges</td>\n",
       "      <td>14</td>\n",
       "      <td>62</td>\n",
       "      <td>82</td>\n",
       "      <td>E</td>\n",
       "    </tr>\n",
       "    <tr>\n",
       "      <th>85</th>\n",
       "      <td>Yonne</td>\n",
       "      <td>51</td>\n",
       "      <td>47</td>\n",
       "      <td>30</td>\n",
       "      <td>C</td>\n",
       "    </tr>\n",
       "  </tbody>\n",
       "</table>\n",
       "<p>85 rows × 5 columns</p>\n",
       "</div>"
      ],
      "text/plain": [
       "      Department  Lottery  Literacy  Wealth Region\n",
       "1            Ain       41        37      73      E\n",
       "2          Aisne       38        51      22      N\n",
       "3         Allier       66        13      61      C\n",
       "4   Basses-Alpes       80        46      76      E\n",
       "5   Hautes-Alpes       79        69      83      E\n",
       "..           ...      ...       ...     ...    ...\n",
       "81        Vendee       68        28      56      W\n",
       "82        Vienne       40        25      68      W\n",
       "83  Haute-Vienne       55        13      67      C\n",
       "84        Vosges       14        62      82      E\n",
       "85         Yonne       51        47      30      C\n",
       "\n",
       "[85 rows x 5 columns]"
      ]
     },
     "execution_count": 5,
     "metadata": {},
     "output_type": "execute_result"
    }
   ],
   "source": [
    "df"
   ]
  },
  {
   "cell_type": "markdown",
   "metadata": {},
   "source": [
    "patsy的dmatrices函数根据表达式重新设计y与X，其中X会：\n",
    "\n",
    "- 将分类变量分解为一组指标变量。\n",
    "- 在外生回归矩阵中增加一个常数。\n",
    "- 返回的是熊猫数据缓存，而不是简单的numpy数组。这是很有用的，因为在报告结果时，数据类型允许状态模型转移元数据(例如变量名)。"
   ]
  },
  {
   "cell_type": "code",
   "execution_count": 32,
   "metadata": {},
   "outputs": [],
   "source": [
    "y,X = dmatrices('Lottery ~ Literacy + Wealth + C(Region)',data=df,return_type='dataframe')"
   ]
  },
  {
   "cell_type": "markdown",
   "metadata": {},
   "source": [
    "在statsmodels中拟合一个模型通常包括3个简单的步骤:\n",
    "\n",
    "- 使用model类来描述模型\n",
    "- 使用类方法拟合模型\n",
    "- 使用摘要方法检查结果"
   ]
  },
  {
   "cell_type": "code",
   "execution_count": 33,
   "metadata": {},
   "outputs": [
    {
     "data": {
      "text/html": [
       "<div>\n",
       "<style scoped>\n",
       "    .dataframe tbody tr th:only-of-type {\n",
       "        vertical-align: middle;\n",
       "    }\n",
       "\n",
       "    .dataframe tbody tr th {\n",
       "        vertical-align: top;\n",
       "    }\n",
       "\n",
       "    .dataframe thead th {\n",
       "        text-align: right;\n",
       "    }\n",
       "</style>\n",
       "<table border=\"1\" class=\"dataframe\">\n",
       "  <thead>\n",
       "    <tr style=\"text-align: right;\">\n",
       "      <th></th>\n",
       "      <th>Intercept</th>\n",
       "      <th>C(Region)[T.E]</th>\n",
       "      <th>C(Region)[T.N]</th>\n",
       "      <th>C(Region)[T.S]</th>\n",
       "      <th>C(Region)[T.W]</th>\n",
       "      <th>Literacy</th>\n",
       "      <th>Wealth</th>\n",
       "    </tr>\n",
       "  </thead>\n",
       "  <tbody>\n",
       "    <tr>\n",
       "      <th>1</th>\n",
       "      <td>1.0</td>\n",
       "      <td>1.0</td>\n",
       "      <td>0.0</td>\n",
       "      <td>0.0</td>\n",
       "      <td>0.0</td>\n",
       "      <td>37.0</td>\n",
       "      <td>73.0</td>\n",
       "    </tr>\n",
       "    <tr>\n",
       "      <th>2</th>\n",
       "      <td>1.0</td>\n",
       "      <td>0.0</td>\n",
       "      <td>1.0</td>\n",
       "      <td>0.0</td>\n",
       "      <td>0.0</td>\n",
       "      <td>51.0</td>\n",
       "      <td>22.0</td>\n",
       "    </tr>\n",
       "    <tr>\n",
       "      <th>3</th>\n",
       "      <td>1.0</td>\n",
       "      <td>0.0</td>\n",
       "      <td>0.0</td>\n",
       "      <td>0.0</td>\n",
       "      <td>0.0</td>\n",
       "      <td>13.0</td>\n",
       "      <td>61.0</td>\n",
       "    </tr>\n",
       "    <tr>\n",
       "      <th>4</th>\n",
       "      <td>1.0</td>\n",
       "      <td>1.0</td>\n",
       "      <td>0.0</td>\n",
       "      <td>0.0</td>\n",
       "      <td>0.0</td>\n",
       "      <td>46.0</td>\n",
       "      <td>76.0</td>\n",
       "    </tr>\n",
       "    <tr>\n",
       "      <th>5</th>\n",
       "      <td>1.0</td>\n",
       "      <td>1.0</td>\n",
       "      <td>0.0</td>\n",
       "      <td>0.0</td>\n",
       "      <td>0.0</td>\n",
       "      <td>69.0</td>\n",
       "      <td>83.0</td>\n",
       "    </tr>\n",
       "    <tr>\n",
       "      <th>...</th>\n",
       "      <td>...</td>\n",
       "      <td>...</td>\n",
       "      <td>...</td>\n",
       "      <td>...</td>\n",
       "      <td>...</td>\n",
       "      <td>...</td>\n",
       "      <td>...</td>\n",
       "    </tr>\n",
       "    <tr>\n",
       "      <th>81</th>\n",
       "      <td>1.0</td>\n",
       "      <td>0.0</td>\n",
       "      <td>0.0</td>\n",
       "      <td>0.0</td>\n",
       "      <td>1.0</td>\n",
       "      <td>28.0</td>\n",
       "      <td>56.0</td>\n",
       "    </tr>\n",
       "    <tr>\n",
       "      <th>82</th>\n",
       "      <td>1.0</td>\n",
       "      <td>0.0</td>\n",
       "      <td>0.0</td>\n",
       "      <td>0.0</td>\n",
       "      <td>1.0</td>\n",
       "      <td>25.0</td>\n",
       "      <td>68.0</td>\n",
       "    </tr>\n",
       "    <tr>\n",
       "      <th>83</th>\n",
       "      <td>1.0</td>\n",
       "      <td>0.0</td>\n",
       "      <td>0.0</td>\n",
       "      <td>0.0</td>\n",
       "      <td>0.0</td>\n",
       "      <td>13.0</td>\n",
       "      <td>67.0</td>\n",
       "    </tr>\n",
       "    <tr>\n",
       "      <th>84</th>\n",
       "      <td>1.0</td>\n",
       "      <td>1.0</td>\n",
       "      <td>0.0</td>\n",
       "      <td>0.0</td>\n",
       "      <td>0.0</td>\n",
       "      <td>62.0</td>\n",
       "      <td>82.0</td>\n",
       "    </tr>\n",
       "    <tr>\n",
       "      <th>85</th>\n",
       "      <td>1.0</td>\n",
       "      <td>0.0</td>\n",
       "      <td>0.0</td>\n",
       "      <td>0.0</td>\n",
       "      <td>0.0</td>\n",
       "      <td>47.0</td>\n",
       "      <td>30.0</td>\n",
       "    </tr>\n",
       "  </tbody>\n",
       "</table>\n",
       "<p>85 rows × 7 columns</p>\n",
       "</div>"
      ],
      "text/plain": [
       "    Intercept  C(Region)[T.E]  C(Region)[T.N]  C(Region)[T.S]  C(Region)[T.W]  \\\n",
       "1         1.0             1.0             0.0             0.0             0.0   \n",
       "2         1.0             0.0             1.0             0.0             0.0   \n",
       "3         1.0             0.0             0.0             0.0             0.0   \n",
       "4         1.0             1.0             0.0             0.0             0.0   \n",
       "5         1.0             1.0             0.0             0.0             0.0   \n",
       "..        ...             ...             ...             ...             ...   \n",
       "81        1.0             0.0             0.0             0.0             1.0   \n",
       "82        1.0             0.0             0.0             0.0             1.0   \n",
       "83        1.0             0.0             0.0             0.0             0.0   \n",
       "84        1.0             1.0             0.0             0.0             0.0   \n",
       "85        1.0             0.0             0.0             0.0             0.0   \n",
       "\n",
       "    Literacy  Wealth  \n",
       "1       37.0    73.0  \n",
       "2       51.0    22.0  \n",
       "3       13.0    61.0  \n",
       "4       46.0    76.0  \n",
       "5       69.0    83.0  \n",
       "..       ...     ...  \n",
       "81      28.0    56.0  \n",
       "82      25.0    68.0  \n",
       "83      13.0    67.0  \n",
       "84      62.0    82.0  \n",
       "85      47.0    30.0  \n",
       "\n",
       "[85 rows x 7 columns]"
      ]
     },
     "execution_count": 33,
     "metadata": {},
     "output_type": "execute_result"
    }
   ],
   "source": [
    "X"
   ]
  },
  {
   "cell_type": "code",
   "execution_count": 34,
   "metadata": {},
   "outputs": [],
   "source": [
    "mod = sm.OLS(y,X)\n",
    "res = mod.fit()"
   ]
  },
  {
   "cell_type": "code",
   "execution_count": 35,
   "metadata": {},
   "outputs": [
    {
     "name": "stdout",
     "output_type": "stream",
     "text": [
      "                 Results: Ordinary least squares\n",
      "=================================================================\n",
      "Model:              OLS              Adj. R-squared:     0.287   \n",
      "Dependent Variable: Lottery          AIC:                764.5986\n",
      "Date:               2020-06-17 17:42 BIC:                781.6971\n",
      "No. Observations:   85               Log-Likelihood:     -375.30 \n",
      "Df Model:           6                F-statistic:        6.636   \n",
      "Df Residuals:       78               Prob (F-statistic): 1.07e-05\n",
      "R-squared:          0.338            Scale:              436.43  \n",
      "-----------------------------------------------------------------\n",
      "                 Coef.   Std.Err.    t    P>|t|   [0.025   0.975]\n",
      "-----------------------------------------------------------------\n",
      "Intercept        38.6517   9.4563  4.0874 0.0001  19.8255 57.4778\n",
      "C(Region)[T.E]  -15.4278   9.7273 -1.5860 0.1168 -34.7934  3.9378\n",
      "C(Region)[T.N]  -10.0170   9.2603 -1.0817 0.2827 -28.4528  8.4188\n",
      "C(Region)[T.S]   -4.5483   7.2789 -0.6249 0.5339 -19.0394  9.9429\n",
      "C(Region)[T.W]  -10.0913   7.1961 -1.4023 0.1648 -24.4176  4.2351\n",
      "Literacy         -0.1858   0.2098 -0.8857 0.3785  -0.6035  0.2319\n",
      "Wealth            0.4515   0.1028  4.3899 0.0000   0.2467  0.6562\n",
      "-----------------------------------------------------------------\n",
      "Omnibus:               3.049        Durbin-Watson:          1.785\n",
      "Prob(Omnibus):         0.218        Jarque-Bera (JB):       2.694\n",
      "Skew:                  -0.340       Prob(JB):               0.260\n",
      "Kurtosis:              2.454        Condition No.:          371  \n",
      "=================================================================\n",
      "\n"
     ]
    }
   ],
   "source": [
    "print(res.summary2())"
   ]
  },
  {
   "cell_type": "markdown",
   "metadata": {},
   "source": [
    "结果对象具有很多有用的属性，例如："
   ]
  },
  {
   "cell_type": "code",
   "execution_count": 36,
   "metadata": {},
   "outputs": [
    {
     "data": {
      "text/plain": [
       "Intercept         38.651655\n",
       "C(Region)[T.E]   -15.427785\n",
       "C(Region)[T.N]   -10.016961\n",
       "C(Region)[T.S]    -4.548257\n",
       "C(Region)[T.W]   -10.091276\n",
       "Literacy          -0.185819\n",
       "Wealth             0.451475\n",
       "dtype: float64"
      ]
     },
     "execution_count": 36,
     "metadata": {},
     "output_type": "execute_result"
    }
   ],
   "source": [
    "res.params"
   ]
  },
  {
   "cell_type": "code",
   "execution_count": 37,
   "metadata": {},
   "outputs": [
    {
     "data": {
      "text/plain": [
       "0.3379508691928822"
      ]
     },
     "execution_count": 37,
     "metadata": {},
     "output_type": "execute_result"
    }
   ],
   "source": [
    "res.rsquared"
   ]
  },
  {
   "cell_type": "markdown",
   "metadata": {},
   "source": [
    "输入dir(res)可以看到完整的属性与方法列表"
   ]
  },
  {
   "cell_type": "markdown",
   "metadata": {},
   "source": [
    "诊断和规范测试\n",
    "\n",
    "- statsmodel允许您执行一系列有用的回归诊断和规范测试。例如，对线性应用彩虹检验(原假设是恰当地将关系建模为线性):"
   ]
  },
  {
   "cell_type": "code",
   "execution_count": 18,
   "metadata": {},
   "outputs": [
    {
     "data": {
      "text/plain": [
       "(0.847233997615691, 0.6997965543621644)"
      ]
     },
     "execution_count": 18,
     "metadata": {},
     "output_type": "execute_result"
    }
   ],
   "source": [
    "sm.stats.linear_rainbow(res)"
   ]
  },
  {
   "cell_type": "markdown",
   "metadata": {},
   "source": [
    "诚然，上面产生的输出不是很冗长，但我们从读取docstring中知道，第一个数字是f统计量，第二个是p值。\n",
    "\n",
    "statsmodels还提供了图形功能。例如，我们可以为一组回归元绘制偏回归图:"
   ]
  },
  {
   "cell_type": "code",
   "execution_count": 19,
   "metadata": {},
   "outputs": [
    {
     "name": "stdout",
     "output_type": "stream",
     "text": [
      "\n",
      "    Rainbow test for linearity\n",
      "\n",
      "    The null hypothesis is the fit of the model using full sample is the same\n",
      "    as using a central subset. The alternative is that the fits are difference.\n",
      "    The rainbow test has power against many different forms of nonlinearity.\n",
      "\n",
      "    Parameters\n",
      "    ----------\n",
      "    res : RegressionResults\n",
      "        A results instance from a linear regression.\n",
      "    frac : float, default 0.5\n",
      "        The fraction of the data to include in the center model.\n",
      "    order_by : {ndarray, str, List[str]}, default None\n",
      "        If an ndarray, the values in the array are used to sort the\n",
      "        observations. If a string or a list of strings, these are interpreted\n",
      "        as column name(s) which are then used to lexicographically sort the\n",
      "        data.\n",
      "    use_distance : bool, default False\n",
      "        Flag indicating whether data should be ordered by the Mahalanobis\n",
      "        distance to the center.\n",
      "    center : {float, int}, default None\n",
      "        If a float, the value must be in [0, 1] and the center is center *\n",
      "        nobs of the ordered data.  If an integer, must be in [0, nobs) and\n",
      "        is interpreted as the observation of the ordered data to use.\n",
      "\n",
      "    Returns\n",
      "    -------\n",
      "    fstat : float\n",
      "        The test statistic based on the F test.\n",
      "    pvalue : float\n",
      "        The pvalue of the test.\n",
      "\n",
      "    Notes\n",
      "    -----\n",
      "    This test assumes residuals are homoskedastic and may reject a correct\n",
      "    linear specification if the residuals are heteroskedastic.\n",
      "    \n"
     ]
    }
   ],
   "source": [
    "print(sm.stats.linear_rainbow.__doc__)"
   ]
  },
  {
   "cell_type": "code",
   "execution_count": 25,
   "metadata": {},
   "outputs": [
    {
     "data": {
      "image/png": "[encoded data removed]",
      "text/plain": [
       "<Figure size 432x288 with 1 Axes>"
      ]
     },
     "metadata": {
      "needs_background": "light"
     },
     "output_type": "display_data"
    }
   ],
   "source": [
    "_ = sm.graphics.plot_partregress('Lottery','Wealth',['Region','Literacy'],data=df,obs_labels=False)"
   ]
  },
  {
   "cell_type": "code",
   "execution_count": null,
   "metadata": {},
   "outputs": [],
   "source": []
  }
 ],
 "metadata": {
  "kernelspec": {
   "display_name": "Python 3",
   "language": "python",
   "name": "python3"
  },
  "language_info": {
   "codemirror_mode": {
    "name": "ipython",
    "version": 3
   },
   "file_extension": ".py",
   "mimetype": "text/x-python",
   "name": "python",
   "nbconvert_exporter": "python",
   "pygments_lexer": "ipython3",
   "version": "3.6.5"
  }
 },
 "nbformat": 4,
 "nbformat_minor": 2
}
