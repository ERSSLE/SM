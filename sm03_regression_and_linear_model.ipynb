{
 "cells": [
  {
   "cell_type": "markdown",
   "metadata": {},
   "source": [
    "## Linear Regression"
   ]
  },
  {
   "cell_type": "markdown",
   "metadata": {},
   "source": [
    "具有独立和同分布误差的线性模型，以及具有异方差或自相关误差的线性模型。该模块允许使用普通最小二乘(OLS)、加权最小二乘(WLS)、广义最小二乘(GLS)和具有自相关AR(p)误差的可行广义最小二乘进行估计。"
   ]
  },
  {
   "cell_type": "code",
   "execution_count": 1,
   "metadata": {},
   "outputs": [],
   "source": [
    "import numpy as np\n",
    "import statsmodels.api as sm"
   ]
  },
  {
   "cell_type": "code",
   "execution_count": 3,
   "metadata": {},
   "outputs": [],
   "source": [
    "spector_data = sm.datasets.spector.load(as_pandas=False)"
   ]
  },
  {
   "cell_type": "code",
   "execution_count": 9,
   "metadata": {},
   "outputs": [
    {
     "data": {
      "text/plain": [
       "array([[ 2.66, 20.  ,  0.  ],\n",
       "       [ 2.89, 22.  ,  0.  ]])"
      ]
     },
     "execution_count": 9,
     "metadata": {},
     "output_type": "execute_result"
    }
   ],
   "source": [
    "spector_data.exog[:2]"
   ]
  },
  {
   "cell_type": "code",
   "execution_count": 10,
   "metadata": {},
   "outputs": [
    {
     "data": {
      "text/plain": [
       "array([[ 2.66, 20.  ,  0.  ,  0.  ],\n",
       "       [ 2.89, 22.  ,  0.  ,  0.  ]])"
      ]
     },
     "execution_count": 10,
     "metadata": {},
     "output_type": "execute_result"
    }
   ],
   "source": [
    "spector_data.raw_data[:2]"
   ]
  },
  {
   "cell_type": "code",
   "execution_count": 11,
   "metadata": {},
   "outputs": [
    {
     "name": "stdout",
     "output_type": "stream",
     "text": [
      "\n",
      "    Add a column of ones to an array.\n",
      "\n",
      "    Parameters\n",
      "    ----------\n",
      "    data : array_like\n",
      "        A column-ordered design matrix.\n",
      "    prepend : bool\n",
      "        If true, the constant is in the first column.  Else the constant is\n",
      "        appended (last column).\n",
      "    has_constant : str {'raise', 'add', 'skip'}\n",
      "        Behavior if ``data`` already has a constant. The default will return\n",
      "        data without adding another constant. If 'raise', will raise an\n",
      "        error if any column has a constant value. Using 'add' will add a\n",
      "        column of 1s if a constant column is present.\n",
      "\n",
      "    Returns\n",
      "    -------\n",
      "    array_like\n",
      "        The original values with a constant (column of ones) as the first or\n",
      "        last column. Returned value type depends on input type.\n",
      "\n",
      "    Notes\n",
      "    -----\n",
      "    When the input is recarray or a pandas Series or DataFrame, the added\n",
      "    column's name is 'const'.\n",
      "    \n"
     ]
    }
   ],
   "source": [
    "print(sm.add_constant.__doc__)"
   ]
  },
  {
   "cell_type": "code",
   "execution_count": 12,
   "metadata": {},
   "outputs": [],
   "source": [
    "spector_data.exog = sm.add_constant(spector_data.exog,prepend=False)"
   ]
  },
  {
   "cell_type": "code",
   "execution_count": 13,
   "metadata": {},
   "outputs": [
    {
     "data": {
      "text/plain": [
       "array([[ 2.66, 20.  ,  0.  ,  1.  ],\n",
       "       [ 2.89, 22.  ,  0.  ,  1.  ],\n",
       "       [ 3.28, 24.  ,  0.  ,  1.  ]])"
      ]
     },
     "execution_count": 13,
     "metadata": {},
     "output_type": "execute_result"
    }
   ],
   "source": [
    "spector_data.exog[:3]"
   ]
  },
  {
   "cell_type": "code",
   "execution_count": 14,
   "metadata": {},
   "outputs": [],
   "source": [
    "mod = sm.OLS(spector_data.endog,spector_data.exog)\n",
    "res = mod.fit()"
   ]
  },
  {
   "cell_type": "code",
   "execution_count": 16,
   "metadata": {},
   "outputs": [
    {
     "name": "stdout",
     "output_type": "stream",
     "text": [
      "                            OLS Regression Results                            \n",
      "==============================================================================\n",
      "Dep. Variable:                      y   R-squared:                       0.416\n",
      "Model:                            OLS   Adj. R-squared:                  0.353\n",
      "Method:                 Least Squares   F-statistic:                     6.646\n",
      "Date:                Thu, 18 Jun 2020   Prob (F-statistic):            0.00157\n",
      "Time:                        09:59:47   Log-Likelihood:                -12.978\n",
      "No. Observations:                  32   AIC:                             33.96\n",
      "Df Residuals:                      28   BIC:                             39.82\n",
      "Df Model:                           3                                         \n",
      "Covariance Type:            nonrobust                                         \n",
      "==============================================================================\n",
      "                 coef    std err          t      P>|t|      [0.025      0.975]\n",
      "------------------------------------------------------------------------------\n",
      "x1             0.4639      0.162      2.864      0.008       0.132       0.796\n",
      "x2             0.0105      0.019      0.539      0.594      -0.029       0.050\n",
      "x3             0.3786      0.139      2.720      0.011       0.093       0.664\n",
      "const         -1.4980      0.524     -2.859      0.008      -2.571      -0.425\n",
      "==============================================================================\n",
      "Omnibus:                        0.176   Durbin-Watson:                   2.346\n",
      "Prob(Omnibus):                  0.916   Jarque-Bera (JB):                0.167\n",
      "Skew:                           0.141   Prob(JB):                        0.920\n",
      "Kurtosis:                       2.786   Cond. No.                         176.\n",
      "==============================================================================\n",
      "\n",
      "Warnings:\n",
      "[1] Standard Errors assume that the covariance matrix of the errors is correctly specified.\n"
     ]
    }
   ],
   "source": [
    "print(res.summary())"
   ]
  },
  {
   "cell_type": "markdown",
   "metadata": {},
   "source": [
    "## 技术文档"
   ]
  },
  {
   "cell_type": "markdown",
   "metadata": {},
   "source": [
    "假设统计模型为：\n",
    "\n",
    "$Y = X\\beta + \\mu, where \\mu~N(0,\\sigma)$"
   ]
  },
  {
   "cell_type": "markdown",
   "metadata": {},
   "source": [
    "根据Σ的性质,目前我们有四类:\n",
    "\n",
    " - GLS:任意的协方差Σ:广义最小二乘法\n",
    "\n",
    " - OLS:普通最小二乘法,Σ=I\n",
    "\n",
    " - WLS:加权最小二乘的异方差\n",
    "\n",
    " - GLSAR:自相关AR(p)误差的可行广义最小二乘Σ=Σ(ρ)\n",
    "\n",
    "所有回归模型定义于相同的方法，遵循相同的结构，并且可以以类似的方式使用。其中一些包含附加的特定于模型的方法和属性。除了递归、滚动WLS和滚动OLS之外，GLS是其他回归类的超类。"
   ]
  },
  {
   "cell_type": "markdown",
   "metadata": {},
   "source": [
    "下面是对所有回归类常见属性的详细描述:"
   ]
  },
  {
   "cell_type": "code",
   "execution_count": 20,
   "metadata": {},
   "outputs": [
    {
     "data": {
      "text/plain": [
       "array([0., 0., 0., 0., 1., 0., 0., 0., 0., 1., 0., 0., 0., 1., 0., 0., 0.,\n",
       "       0., 0., 1., 0., 1., 0., 0., 1., 1., 1., 0., 1., 1., 0., 1.])"
      ]
     },
     "execution_count": 20,
     "metadata": {},
     "output_type": "execute_result"
    }
   ],
   "source": [
    "mod.pinv_wexog # p x n 白色设计矩阵的Moore-Penrose伪逆\n",
    "mod.df_model # 模型的自由度。这等于p - 1,其中p是回归量\n",
    "mod.df_resid # 残差的自由度，这里等于 n - p,其中n是观测值p是参数的数量。\n",
    "res.llf # 拟合模型的似然函数值。\n",
    "res.nobs # 观测值n\n",
    "res.normalized_cov_params # 标准化的协方差参数\n",
    "mod.wexog # 权重外生变量\n",
    "mod.wendog # 权重内生变量"
   ]
  },
  {
   "cell_type": "markdown",
   "metadata": {},
   "source": [
    "### 普通最小二乘法回归 OLS"
   ]
  },
  {
   "cell_type": "code",
   "execution_count": 21,
   "metadata": {},
   "outputs": [],
   "source": [
    "import matplotlib.pyplot as plt\n",
    "from statsmodels.sandbox.regression.predstd import wls_prediction_std"
   ]
  },
  {
   "cell_type": "code",
   "execution_count": 22,
   "metadata": {},
   "outputs": [
    {
     "name": "stdout",
     "output_type": "stream",
     "text": [
      "calculate standard deviation and confidence interval for prediction\n",
      "\n",
      "    applies to WLS and OLS, not to general GLS,\n",
      "    that is independently but not identically distributed observations\n",
      "\n",
      "    Parameters\n",
      "    ----------\n",
      "    res : regression result instance\n",
      "        results of WLS or OLS regression required attributes see notes\n",
      "    exog : array_like (optional)\n",
      "        exogenous variables for points to predict\n",
      "    weights : scalar or array_like (optional)\n",
      "        weights as defined for WLS (inverse of variance of observation)\n",
      "    alpha : float (default: alpha = 0.05)\n",
      "        confidence level for two-sided hypothesis\n",
      "\n",
      "    Returns\n",
      "    -------\n",
      "    predstd : array_like, 1d\n",
      "        standard error of prediction\n",
      "        same length as rows of exog\n",
      "    interval_l, interval_u : array_like\n",
      "        lower und upper confidence bounds\n",
      "\n",
      "    Notes\n",
      "    -----\n",
      "    The result instance needs to have at least the following\n",
      "    res.model.predict() : predicted values or\n",
      "    res.fittedvalues : values used in estimation\n",
      "    res.cov_params() : covariance matrix of parameter estimates\n",
      "\n",
      "    If exog is 1d, then it is interpreted as one observation,\n",
      "    i.e. a row vector.\n",
      "\n",
      "    testing status: not compared with other packages\n",
      "\n",
      "    References\n",
      "    ----------\n",
      "\n",
      "    Greene p.111 for OLS, extended to WLS by analogy\n",
      "\n",
      "    \n"
     ]
    }
   ],
   "source": [
    "print(wls_prediction_std.__doc__) # "
   ]
  },
  {
   "cell_type": "markdown",
   "metadata": {},
   "source": [
    "计算预测的标准差和置信区间\n",
    "\n",
    "适用于WLS和OLS，不适用于一般的gl，这是独立的，但不是同分布的观测"
   ]
  },
  {
   "cell_type": "markdown",
   "metadata": {},
   "source": [
    "OLS 估计"
   ]
  },
  {
   "cell_type": "code",
   "execution_count": 23,
   "metadata": {},
   "outputs": [],
   "source": [
    "nsample = 100\n",
    "x = np.linspace(0,10,nsample)\n",
    "X = np.column_stack((x,x**2))"
   ]
  },
  {
   "cell_type": "code",
   "execution_count": 25,
   "metadata": {},
   "outputs": [],
   "source": [
    "X = sm.add_constant(X)\n",
    "beta = [1,0.1,10]\n",
    "e = np.random.normal(nsample)"
   ]
  },
  {
   "cell_type": "code",
   "execution_count": 26,
   "metadata": {},
   "outputs": [],
   "source": [
    "y = np.dot(X,beta) + e"
   ]
  },
  {
   "cell_type": "code",
   "execution_count": 32,
   "metadata": {},
   "outputs": [],
   "source": [
    "mod = sm.OLS(y,X)\n",
    "res = mod.fit()"
   ]
  },
  {
   "cell_type": "code",
   "execution_count": 33,
   "metadata": {},
   "outputs": [
    {
     "name": "stdout",
     "output_type": "stream",
     "text": [
      "                            OLS Regression Results                            \n",
      "==============================================================================\n",
      "Dep. Variable:                      y   R-squared:                       1.000\n",
      "Model:                            OLS   Adj. R-squared:                  1.000\n",
      "Method:                 Least Squares   F-statistic:                 1.733e+31\n",
      "Date:                Thu, 18 Jun 2020   Prob (F-statistic):               0.00\n",
      "Time:                        11:02:31   Log-Likelihood:                 2689.6\n",
      "No. Observations:                 100   AIC:                            -5373.\n",
      "Df Residuals:                      97   BIC:                            -5365.\n",
      "Df Model:                           2                                         \n",
      "Covariance Type:            nonrobust                                         \n",
      "==============================================================================\n",
      "                 coef    std err          t      P>|t|      [0.025      0.975]\n",
      "------------------------------------------------------------------------------\n",
      "const        102.4182   1.51e-13    6.8e+14      0.000     102.418     102.418\n",
      "x1             0.1000   6.96e-14   1.44e+12      0.000       0.100       0.100\n",
      "x2            10.0000   6.74e-15   1.48e+15      0.000      10.000      10.000\n",
      "==============================================================================\n",
      "Omnibus:                       10.639   Durbin-Watson:                   0.017\n",
      "Prob(Omnibus):                  0.005   Jarque-Bera (JB):               10.782\n",
      "Skew:                          -0.753   Prob(JB):                      0.00456\n",
      "Kurtosis:                       2.436   Cond. No.                         144.\n",
      "==============================================================================\n",
      "\n",
      "Warnings:\n",
      "[1] Standard Errors assume that the covariance matrix of the errors is correctly specified.\n"
     ]
    }
   ],
   "source": [
    "print(res.summary())"
   ]
  },
  {
   "cell_type": "code",
   "execution_count": 34,
   "metadata": {},
   "outputs": [
    {
     "name": "stdout",
     "output_type": "stream",
     "text": [
      "PARAMS:  [1.02418204e+02 1.00000000e-01 1.00000000e+01]\n",
      "R2:  1.0\n"
     ]
    }
   ],
   "source": [
    "print('PARAMS: ',res.params)\n",
    "print('R2: ',res.rsquared)"
   ]
  },
  {
   "cell_type": "markdown",
   "metadata": {},
   "source": [
    "**OLS曲线是非线性的，但在参数实现上是线性的**"
   ]
  },
  {
   "cell_type": "code",
   "execution_count": 35,
   "metadata": {},
   "outputs": [],
   "source": [
    "nsample = 50\n",
    "sig = 0.5\n",
    "x = np.linspace(0, 20, nsample)\n",
    "X = np.column_stack((x, np.sin(x), (x-5)**2, np.ones(nsample)))\n",
    "beta = [0.5, 0.5, -0.02, 5.]"
   ]
  },
  {
   "cell_type": "code",
   "execution_count": 47,
   "metadata": {},
   "outputs": [],
   "source": [
    "y_true = np.dot(X,beta)\n",
    "y = y_true + sig * np.random.randn(nsample)"
   ]
  },
  {
   "cell_type": "code",
   "execution_count": 48,
   "metadata": {},
   "outputs": [
    {
     "data": {
      "text/plain": [
       "[<matplotlib.lines.Line2D at 0x1b0a6978>]"
      ]
     },
     "execution_count": 48,
     "metadata": {},
     "output_type": "execute_result"
    },
    {
     "data": {
      "image/png": "[encoded data removed]",
      "text/plain": [
       "<Figure size 432x288 with 1 Axes>"
      ]
     },
     "metadata": {
      "needs_background": "light"
     },
     "output_type": "display_data"
    }
   ],
   "source": [
    "plt.plot(x,y,'o')"
   ]
  },
  {
   "cell_type": "code",
   "execution_count": 49,
   "metadata": {},
   "outputs": [
    {
     "name": "stdout",
     "output_type": "stream",
     "text": [
      "                            OLS Regression Results                            \n",
      "==============================================================================\n",
      "Dep. Variable:                      y   R-squared:                       0.935\n",
      "Model:                            OLS   Adj. R-squared:                  0.931\n",
      "Method:                 Least Squares   F-statistic:                     219.9\n",
      "Date:                Thu, 18 Jun 2020   Prob (F-statistic):           2.82e-27\n",
      "Time:                        11:14:13   Log-Likelihood:                -34.647\n",
      "No. Observations:                  50   AIC:                             77.29\n",
      "Df Residuals:                      46   BIC:                             84.94\n",
      "Df Model:                           3                                         \n",
      "Covariance Type:            nonrobust                                         \n",
      "==============================================================================\n",
      "                 coef    std err          t      P>|t|      [0.025      0.975]\n",
      "------------------------------------------------------------------------------\n",
      "x1             0.4928      0.027     18.585      0.000       0.439       0.546\n",
      "x2             0.4581      0.104      4.395      0.000       0.248       0.668\n",
      "x3            -0.0194      0.002     -8.324      0.000      -0.024      -0.015\n",
      "const          5.0201      0.172     29.198      0.000       4.674       5.366\n",
      "==============================================================================\n",
      "Omnibus:                        0.604   Durbin-Watson:                   2.047\n",
      "Prob(Omnibus):                  0.739   Jarque-Bera (JB):                0.150\n",
      "Skew:                           0.095   Prob(JB):                        0.928\n",
      "Kurtosis:                       3.189   Cond. No.                         221.\n",
      "==============================================================================\n",
      "\n",
      "Warnings:\n",
      "[1] Standard Errors assume that the covariance matrix of the errors is correctly specified.\n"
     ]
    }
   ],
   "source": [
    "res = sm.OLS(y,X).fit()\n",
    "print(res.summary())"
   ]
  },
  {
   "cell_type": "code",
   "execution_count": 50,
   "metadata": {},
   "outputs": [
    {
     "name": "stdout",
     "output_type": "stream",
     "text": [
      "Prameters: [ 0.4928158   0.45808577 -0.01937944  5.02010931]\n",
      "Standard Error: [0.0265167  0.10424027 0.00232819 0.17193529]\n",
      "Predicted Value: [ 4.53562335  4.99446915  5.41698444  5.77820395  6.06217226  6.26456519\n",
      "  6.39340029  6.46771956  6.51446094  6.5640324   6.64531609  6.78092303\n",
      "  6.9834782   7.25354628  7.57953889  7.93961852  8.30528637  8.64606463\n",
      "  8.93450389  9.150693    9.28553041  9.34221956  9.33574252  9.29039851\n",
      "  9.23581159  9.20206352  9.21475142  9.2907822   9.43559485  9.64226679\n",
      "  9.89265126 10.16035876 10.41509278 10.62762744 10.77460918 10.84239374\n",
      " 10.82928784 10.74582738 10.61304643 10.45902139 10.31425812 10.20667991\n",
      " 10.15703976 10.17551072 10.26001451 10.39656292 10.56155611 10.72565994\n",
      " 10.85862548 10.93425888]\n"
     ]
    }
   ],
   "source": [
    "print('Prameters:',res.params)\n",
    "print('Standard Error:',res.bse)\n",
    "print('Predicted Value:',res.predict())"
   ]
  },
  {
   "cell_type": "code",
   "execution_count": 51,
   "metadata": {},
   "outputs": [
    {
     "data": {
      "text/plain": [
       "array([ True,  True,  True,  True,  True,  True,  True,  True,  True,\n",
       "        True,  True,  True,  True,  True,  True,  True,  True,  True,\n",
       "        True,  True,  True,  True,  True,  True,  True,  True,  True,\n",
       "        True,  True,  True,  True,  True,  True,  True,  True,  True,\n",
       "        True,  True,  True,  True,  True,  True,  True,  True,  True,\n",
       "        True,  True,  True,  True,  True])"
      ]
     },
     "execution_count": 51,
     "metadata": {},
     "output_type": "execute_result"
    }
   ],
   "source": [
    "res.fittedvalues == res.predict()"
   ]
  },
  {
   "cell_type": "code",
   "execution_count": 56,
   "metadata": {},
   "outputs": [
    {
     "data": {
      "text/plain": [
       "<matplotlib.legend.Legend at 0x1b7e4f60>"
      ]
     },
     "execution_count": 56,
     "metadata": {},
     "output_type": "execute_result"
    },
    {
     "data": {
      "image/png": "[encoded data removed]",
      "text/plain": [
       "<Figure size 576x432 with 1 Axes>"
      ]
     },
     "metadata": {
      "needs_background": "light"
     },
     "output_type": "display_data"
    }
   ],
   "source": [
    "prstd,iv_l,iv_u = wls_prediction_std(res)\n",
    "plt.figure(figsize=(8,6))\n",
    "plt.plot(x,y,'o',label='data')\n",
    "plt.plot(x,y_true,'g-',label='True')\n",
    "plt.plot(x,res.fittedvalues,'k-',label='predict')\n",
    "plt.plot(x,iv_l,'r--')\n",
    "plt.plot(x,iv_u,'r--')\n",
    "plt.legend(loc='best')"
   ]
  },
  {
   "cell_type": "code",
   "execution_count": null,
   "metadata": {},
   "outputs": [],
   "source": []
  }
 ],
 "metadata": {
  "kernelspec": {
   "display_name": "Python 3",
   "language": "python",
   "name": "python3"
  },
  "language_info": {
   "codemirror_mode": {
    "name": "ipython",
    "version": 3
   },
   "file_extension": ".py",
   "mimetype": "text/x-python",
   "name": "python",
   "nbconvert_exporter": "python",
   "pygments_lexer": "ipython3",
   "version": "3.7.2"
  }
 },
 "nbformat": 4,
 "nbformat_minor": 2
}
