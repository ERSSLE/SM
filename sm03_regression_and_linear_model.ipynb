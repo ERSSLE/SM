{
 "cells": [
  {
   "cell_type": "markdown",
   "metadata": {},
   "source": [
    "## Linear Regression"
   ]
  },
  {
   "cell_type": "markdown",
   "metadata": {},
   "source": [
    "具有独立和同分布误差的线性模型，以及具有异方差或自相关误差的线性模型。该模块允许使用普通最小二乘(OLS)、加权最小二乘(WLS)、广义最小二乘(GLS)和具有自相关AR(p)误差的可行广义最小二乘进行估计。"
   ]
  },
  {
   "cell_type": "code",
   "execution_count": 1,
   "metadata": {},
   "outputs": [],
   "source": [
    "import numpy as np\n",
    "import statsmodels.api as sm"
   ]
  },
  {
   "cell_type": "code",
   "execution_count": 3,
   "metadata": {},
   "outputs": [],
   "source": [
    "spector_data = sm.datasets.spector.load(as_pandas=False)"
   ]
  },
  {
   "cell_type": "code",
   "execution_count": 9,
   "metadata": {},
   "outputs": [
    {
     "data": {
      "text/plain": [
       "array([[ 2.66, 20.  ,  0.  ],\n",
       "       [ 2.89, 22.  ,  0.  ]])"
      ]
     },
     "execution_count": 9,
     "metadata": {},
     "output_type": "execute_result"
    }
   ],
   "source": [
    "spector_data.exog[:2]"
   ]
  },
  {
   "cell_type": "code",
   "execution_count": 10,
   "metadata": {},
   "outputs": [
    {
     "data": {
      "text/plain": [
       "array([[ 2.66, 20.  ,  0.  ,  0.  ],\n",
       "       [ 2.89, 22.  ,  0.  ,  0.  ]])"
      ]
     },
     "execution_count": 10,
     "metadata": {},
     "output_type": "execute_result"
    }
   ],
   "source": [
    "spector_data.raw_data[:2]"
   ]
  },
  {
   "cell_type": "code",
   "execution_count": 11,
   "metadata": {},
   "outputs": [
    {
     "name": "stdout",
     "output_type": "stream",
     "text": [
      "\n",
      "    Add a column of ones to an array.\n",
      "\n",
      "    Parameters\n",
      "    ----------\n",
      "    data : array_like\n",
      "        A column-ordered design matrix.\n",
      "    prepend : bool\n",
      "        If true, the constant is in the first column.  Else the constant is\n",
      "        appended (last column).\n",
      "    has_constant : str {'raise', 'add', 'skip'}\n",
      "        Behavior if ``data`` already has a constant. The default will return\n",
      "        data without adding another constant. If 'raise', will raise an\n",
      "        error if any column has a constant value. Using 'add' will add a\n",
      "        column of 1s if a constant column is present.\n",
      "\n",
      "    Returns\n",
      "    -------\n",
      "    array_like\n",
      "        The original values with a constant (column of ones) as the first or\n",
      "        last column. Returned value type depends on input type.\n",
      "\n",
      "    Notes\n",
      "    -----\n",
      "    When the input is recarray or a pandas Series or DataFrame, the added\n",
      "    column's name is 'const'.\n",
      "    \n"
     ]
    }
   ],
   "source": [
    "print(sm.add_constant.__doc__)"
   ]
  },
  {
   "cell_type": "code",
   "execution_count": 12,
   "metadata": {},
   "outputs": [],
   "source": [
    "spector_data.exog = sm.add_constant(spector_data.exog,prepend=False)"
   ]
  },
  {
   "cell_type": "code",
   "execution_count": 13,
   "metadata": {},
   "outputs": [
    {
     "data": {
      "text/plain": [
       "array([[ 2.66, 20.  ,  0.  ,  1.  ],\n",
       "       [ 2.89, 22.  ,  0.  ,  1.  ],\n",
       "       [ 3.28, 24.  ,  0.  ,  1.  ]])"
      ]
     },
     "execution_count": 13,
     "metadata": {},
     "output_type": "execute_result"
    }
   ],
   "source": [
    "spector_data.exog[:3]"
   ]
  },
  {
   "cell_type": "code",
   "execution_count": 14,
   "metadata": {},
   "outputs": [],
   "source": [
    "mod = sm.OLS(spector_data.endog,spector_data.exog)\n",
    "res = mod.fit()"
   ]
  },
  {
   "cell_type": "code",
   "execution_count": 16,
   "metadata": {},
   "outputs": [
    {
     "name": "stdout",
     "output_type": "stream",
     "text": [
      "                            OLS Regression Results                            \n",
      "==============================================================================\n",
      "Dep. Variable:                      y   R-squared:                       0.416\n",
      "Model:                            OLS   Adj. R-squared:                  0.353\n",
      "Method:                 Least Squares   F-statistic:                     6.646\n",
      "Date:                Thu, 18 Jun 2020   Prob (F-statistic):            0.00157\n",
      "Time:                        09:59:47   Log-Likelihood:                -12.978\n",
      "No. Observations:                  32   AIC:                             33.96\n",
      "Df Residuals:                      28   BIC:                             39.82\n",
      "Df Model:                           3                                         \n",
      "Covariance Type:            nonrobust                                         \n",
      "==============================================================================\n",
      "                 coef    std err          t      P>|t|      [0.025      0.975]\n",
      "------------------------------------------------------------------------------\n",
      "x1             0.4639      0.162      2.864      0.008       0.132       0.796\n",
      "x2             0.0105      0.019      0.539      0.594      -0.029       0.050\n",
      "x3             0.3786      0.139      2.720      0.011       0.093       0.664\n",
      "const         -1.4980      0.524     -2.859      0.008      -2.571      -0.425\n",
      "==============================================================================\n",
      "Omnibus:                        0.176   Durbin-Watson:                   2.346\n",
      "Prob(Omnibus):                  0.916   Jarque-Bera (JB):                0.167\n",
      "Skew:                           0.141   Prob(JB):                        0.920\n",
      "Kurtosis:                       2.786   Cond. No.                         176.\n",
      "==============================================================================\n",
      "\n",
      "Warnings:\n",
      "[1] Standard Errors assume that the covariance matrix of the errors is correctly specified.\n"
     ]
    }
   ],
   "source": [
    "print(res.summary())"
   ]
  },
  {
   "cell_type": "markdown",
   "metadata": {},
   "source": [
    "## 技术文档"
   ]
  },
  {
   "cell_type": "markdown",
   "metadata": {},
   "source": [
    "假设统计模型为：\n",
    "\n",
    "$Y = X\\beta + \\mu, where \\mu~N(0,\\sigma)$"
   ]
  },
  {
   "cell_type": "markdown",
   "metadata": {},
   "source": [
    "根据Σ的性质,目前我们有四类:\n",
    "\n",
    " - GLS:任意的协方差Σ:广义最小二乘法\n",
    "\n",
    " - OLS:普通最小二乘法,Σ=I\n",
    "\n",
    " - WLS:加权最小二乘的异方差\n",
    "\n",
    " - GLSAR:自相关AR(p)误差的可行广义最小二乘Σ=Σ(ρ)\n",
    "\n",
    "所有回归模型定义于相同的方法，遵循相同的结构，并且可以以类似的方式使用。其中一些包含附加的特定于模型的方法和属性。除了递归、滚动WLS和滚动OLS之外，GLS是其他回归类的超类。"
   ]
  },
  {
   "cell_type": "markdown",
   "metadata": {},
   "source": [
    "下面是对所有回归类常见属性的详细描述:"
   ]
  },
  {
   "cell_type": "code",
   "execution_count": 20,
   "metadata": {},
   "outputs": [
    {
     "data": {
      "text/plain": [
       "array([0., 0., 0., 0., 1., 0., 0., 0., 0., 1., 0., 0., 0., 1., 0., 0., 0.,\n",
       "       0., 0., 1., 0., 1., 0., 0., 1., 1., 1., 0., 1., 1., 0., 1.])"
      ]
     },
     "execution_count": 20,
     "metadata": {},
     "output_type": "execute_result"
    }
   ],
   "source": [
    "mod.pinv_wexog # p x n 白色设计矩阵的Moore-Penrose伪逆\n",
    "mod.df_model # 模型的自由度。这等于p - 1,其中p是回归量\n",
    "mod.df_resid # 残差的自由度，这里等于 n - p,其中n是观测值p是参数的数量。\n",
    "res.llf # 拟合模型的似然函数值。\n",
    "res.nobs # 观测值n\n",
    "res.normalized_cov_params # 标准化的协方差参数\n",
    "mod.wexog # 权重外生变量\n",
    "mod.wendog # 权重内生变量"
   ]
  },
  {
   "cell_type": "markdown",
   "metadata": {},
   "source": [
    "### 普通最小二乘法回归 OLS"
   ]
  },
  {
   "cell_type": "code",
   "execution_count": 21,
   "metadata": {},
   "outputs": [],
   "source": [
    "import matplotlib.pyplot as plt\n",
    "from statsmodels.sandbox.regression.predstd import wls_prediction_std"
   ]
  },
  {
   "cell_type": "code",
   "execution_count": 22,
   "metadata": {},
   "outputs": [
    {
     "name": "stdout",
     "output_type": "stream",
     "text": [
      "calculate standard deviation and confidence interval for prediction\n",
      "\n",
      "    applies to WLS and OLS, not to general GLS,\n",
      "    that is independently but not identically distributed observations\n",
      "\n",
      "    Parameters\n",
      "    ----------\n",
      "    res : regression result instance\n",
      "        results of WLS or OLS regression required attributes see notes\n",
      "    exog : array_like (optional)\n",
      "        exogenous variables for points to predict\n",
      "    weights : scalar or array_like (optional)\n",
      "        weights as defined for WLS (inverse of variance of observation)\n",
      "    alpha : float (default: alpha = 0.05)\n",
      "        confidence level for two-sided hypothesis\n",
      "\n",
      "    Returns\n",
      "    -------\n",
      "    predstd : array_like, 1d\n",
      "        standard error of prediction\n",
      "        same length as rows of exog\n",
      "    interval_l, interval_u : array_like\n",
      "        lower und upper confidence bounds\n",
      "\n",
      "    Notes\n",
      "    -----\n",
      "    The result instance needs to have at least the following\n",
      "    res.model.predict() : predicted values or\n",
      "    res.fittedvalues : values used in estimation\n",
      "    res.cov_params() : covariance matrix of parameter estimates\n",
      "\n",
      "    If exog is 1d, then it is interpreted as one observation,\n",
      "    i.e. a row vector.\n",
      "\n",
      "    testing status: not compared with other packages\n",
      "\n",
      "    References\n",
      "    ----------\n",
      "\n",
      "    Greene p.111 for OLS, extended to WLS by analogy\n",
      "\n",
      "    \n"
     ]
    }
   ],
   "source": [
    "print(wls_prediction_std.__doc__) # "
   ]
  },
  {
   "cell_type": "markdown",
   "metadata": {},
   "source": [
    "计算预测的标准差和置信区间\n",
    "\n",
    "适用于WLS和OLS，不适用于一般的gl，这是独立的，但不是同分布的观测"
   ]
  },
  {
   "cell_type": "markdown",
   "metadata": {},
   "source": [
    "OLS 估计"
   ]
  },
  {
   "cell_type": "code",
   "execution_count": 23,
   "metadata": {},
   "outputs": [],
   "source": [
    "nsample = 100\n",
    "x = np.linspace(0,10,nsample)\n",
    "X = np.column_stack((x,x**2))"
   ]
  },
  {
   "cell_type": "code",
   "execution_count": 25,
   "metadata": {},
   "outputs": [],
   "source": [
    "X = sm.add_constant(X)\n",
    "beta = [1,0.1,10]\n",
    "e = np.random.normal(nsample)"
   ]
  },
  {
   "cell_type": "code",
   "execution_count": 26,
   "metadata": {},
   "outputs": [],
   "source": [
    "y = np.dot(X,beta) + e"
   ]
  },
  {
   "cell_type": "code",
   "execution_count": 32,
   "metadata": {},
   "outputs": [],
   "source": [
    "mod = sm.OLS(y,X)\n",
    "res = mod.fit()"
   ]
  },
  {
   "cell_type": "code",
   "execution_count": 33,
   "metadata": {},
   "outputs": [
    {
     "name": "stdout",
     "output_type": "stream",
     "text": [
      "                            OLS Regression Results                            \n",
      "==============================================================================\n",
      "Dep. Variable:                      y   R-squared:                       1.000\n",
      "Model:                            OLS   Adj. R-squared:                  1.000\n",
      "Method:                 Least Squares   F-statistic:                 1.733e+31\n",
      "Date:                Thu, 18 Jun 2020   Prob (F-statistic):               0.00\n",
      "Time:                        11:02:31   Log-Likelihood:                 2689.6\n",
      "No. Observations:                 100   AIC:                            -5373.\n",
      "Df Residuals:                      97   BIC:                            -5365.\n",
      "Df Model:                           2                                         \n",
      "Covariance Type:            nonrobust                                         \n",
      "==============================================================================\n",
      "                 coef    std err          t      P>|t|      [0.025      0.975]\n",
      "------------------------------------------------------------------------------\n",
      "const        102.4182   1.51e-13    6.8e+14      0.000     102.418     102.418\n",
      "x1             0.1000   6.96e-14   1.44e+12      0.000       0.100       0.100\n",
      "x2            10.0000   6.74e-15   1.48e+15      0.000      10.000      10.000\n",
      "==============================================================================\n",
      "Omnibus:                       10.639   Durbin-Watson:                   0.017\n",
      "Prob(Omnibus):                  0.005   Jarque-Bera (JB):               10.782\n",
      "Skew:                          -0.753   Prob(JB):                      0.00456\n",
      "Kurtosis:                       2.436   Cond. No.                         144.\n",
      "==============================================================================\n",
      "\n",
      "Warnings:\n",
      "[1] Standard Errors assume that the covariance matrix of the errors is correctly specified.\n"
     ]
    }
   ],
   "source": [
    "print(res.summary())"
   ]
  },
  {
   "cell_type": "code",
   "execution_count": 34,
   "metadata": {},
   "outputs": [
    {
     "name": "stdout",
     "output_type": "stream",
     "text": [
      "PARAMS:  [1.02418204e+02 1.00000000e-01 1.00000000e+01]\n",
      "R2:  1.0\n"
     ]
    }
   ],
   "source": [
    "print('PARAMS: ',res.params)\n",
    "print('R2: ',res.rsquared)"
   ]
  },
  {
   "cell_type": "markdown",
   "metadata": {},
   "source": [
    "**OLS曲线是非线性的，但在参数实现上是线性的**"
   ]
  },
  {
   "cell_type": "code",
   "execution_count": 35,
   "metadata": {},
   "outputs": [],
   "source": [
    "nsample = 50\n",
    "sig = 0.5\n",
    "x = np.linspace(0, 20, nsample)\n",
    "X = np.column_stack((x, np.sin(x), (x-5)**2, np.ones(nsample)))\n",
    "beta = [0.5, 0.5, -0.02, 5.]"
   ]
  },
  {
   "cell_type": "code",
   "execution_count": 47,
   "metadata": {},
   "outputs": [],
   "source": [
    "y_true = np.dot(X,beta)\n",
    "y = y_true + sig * np.random.randn(nsample)"
   ]
  },
  {
   "cell_type": "code",
   "execution_count": 48,
   "metadata": {},
   "outputs": [
    {
     "data": {
      "text/plain": [
       "[<matplotlib.lines.Line2D at 0x1b0a6978>]"
      ]
     },
     "execution_count": 48,
     "metadata": {},
     "output_type": "execute_result"
    },
    {
     "data": {
      "image/png": "[encoded data removed]",
      "text/plain": [
       "<Figure size 432x288 with 1 Axes>"
      ]
     },
     "metadata": {
      "needs_background": "light"
     },
     "output_type": "display_data"
    }
   ],
   "source": [
    "plt.plot(x,y,'o')"
   ]
  },
  {
   "cell_type": "code",
   "execution_count": 49,
   "metadata": {},
   "outputs": [
    {
     "name": "stdout",
     "output_type": "stream",
     "text": [
      "                            OLS Regression Results                            \n",
      "==============================================================================\n",
      "Dep. Variable:                      y   R-squared:                       0.935\n",
      "Model:                            OLS   Adj. R-squared:                  0.931\n",
      "Method:                 Least Squares   F-statistic:                     219.9\n",
      "Date:                Thu, 18 Jun 2020   Prob (F-statistic):           2.82e-27\n",
      "Time:                        11:14:13   Log-Likelihood:                -34.647\n",
      "No. Observations:                  50   AIC:                             77.29\n",
      "Df Residuals:                      46   BIC:                             84.94\n",
      "Df Model:                           3                                         \n",
      "Covariance Type:            nonrobust                                         \n",
      "==============================================================================\n",
      "                 coef    std err          t      P>|t|      [0.025      0.975]\n",
      "------------------------------------------------------------------------------\n",
      "x1             0.4928      0.027     18.585      0.000       0.439       0.546\n",
      "x2             0.4581      0.104      4.395      0.000       0.248       0.668\n",
      "x3            -0.0194      0.002     -8.324      0.000      -0.024      -0.015\n",
      "const          5.0201      0.172     29.198      0.000       4.674       5.366\n",
      "==============================================================================\n",
      "Omnibus:                        0.604   Durbin-Watson:                   2.047\n",
      "Prob(Omnibus):                  0.739   Jarque-Bera (JB):                0.150\n",
      "Skew:                           0.095   Prob(JB):                        0.928\n",
      "Kurtosis:                       3.189   Cond. No.                         221.\n",
      "==============================================================================\n",
      "\n",
      "Warnings:\n",
      "[1] Standard Errors assume that the covariance matrix of the errors is correctly specified.\n"
     ]
    }
   ],
   "source": [
    "res = sm.OLS(y,X).fit()\n",
    "print(res.summary())"
   ]
  },
  {
   "cell_type": "code",
   "execution_count": 50,
   "metadata": {},
   "outputs": [
    {
     "name": "stdout",
     "output_type": "stream",
     "text": [
      "Prameters: [ 0.4928158   0.45808577 -0.01937944  5.02010931]\n",
      "Standard Error: [0.0265167  0.10424027 0.00232819 0.17193529]\n",
      "Predicted Value: [ 4.53562335  4.99446915  5.41698444  5.77820395  6.06217226  6.26456519\n",
      "  6.39340029  6.46771956  6.51446094  6.5640324   6.64531609  6.78092303\n",
      "  6.9834782   7.25354628  7.57953889  7.93961852  8.30528637  8.64606463\n",
      "  8.93450389  9.150693    9.28553041  9.34221956  9.33574252  9.29039851\n",
      "  9.23581159  9.20206352  9.21475142  9.2907822   9.43559485  9.64226679\n",
      "  9.89265126 10.16035876 10.41509278 10.62762744 10.77460918 10.84239374\n",
      " 10.82928784 10.74582738 10.61304643 10.45902139 10.31425812 10.20667991\n",
      " 10.15703976 10.17551072 10.26001451 10.39656292 10.56155611 10.72565994\n",
      " 10.85862548 10.93425888]\n"
     ]
    }
   ],
   "source": [
    "print('Prameters:',res.params)\n",
    "print('Standard Error:',res.bse)\n",
    "print('Predicted Value:',res.predict())"
   ]
  },
  {
   "cell_type": "code",
   "execution_count": 51,
   "metadata": {},
   "outputs": [
    {
     "data": {
      "text/plain": [
       "array([ True,  True,  True,  True,  True,  True,  True,  True,  True,\n",
       "        True,  True,  True,  True,  True,  True,  True,  True,  True,\n",
       "        True,  True,  True,  True,  True,  True,  True,  True,  True,\n",
       "        True,  True,  True,  True,  True,  True,  True,  True,  True,\n",
       "        True,  True,  True,  True,  True,  True,  True,  True,  True,\n",
       "        True,  True,  True,  True,  True])"
      ]
     },
     "execution_count": 51,
     "metadata": {},
     "output_type": "execute_result"
    }
   ],
   "source": [
    "res.fittedvalues == res.predict()"
   ]
  },
  {
   "cell_type": "code",
   "execution_count": 56,
   "metadata": {},
   "outputs": [
    {
     "data": {
      "text/plain": [
       "<matplotlib.legend.Legend at 0x1b7e4f60>"
      ]
     },
     "execution_count": 56,
     "metadata": {},
     "output_type": "execute_result"
    },
    {
     "data": {
      "image/png": "[encoded data removed]",
      "text/plain": [
       "<Figure size 576x432 with 1 Axes>"
      ]
     },
     "metadata": {
      "needs_background": "light"
     },
     "output_type": "display_data"
    }
   ],
   "source": [
    "prstd,iv_l,iv_u = wls_prediction_std(res)\n",
    "plt.figure(figsize=(8,6))\n",
    "plt.plot(x,y,'o',label='data')\n",
    "plt.plot(x,y_true,'g-',label='True')\n",
    "plt.plot(x,res.fittedvalues,'k-',label='predict')\n",
    "plt.plot(x,iv_l,'r--')\n",
    "plt.plot(x,iv_u,'r--')\n",
    "plt.legend(loc='best')"
   ]
  },
  {
   "cell_type": "markdown",
   "metadata": {},
   "source": [
    "### 带有哑变量的OLS"
   ]
  },
  {
   "cell_type": "markdown",
   "metadata": {},
   "source": [
    "我们产生一些人工数据。有三组将使用哑变量建模。第0组是基准类别。"
   ]
  },
  {
   "cell_type": "code",
   "execution_count": 58,
   "metadata": {},
   "outputs": [],
   "source": [
    "nsample = 50\n",
    "groups = np.zeros(nsample, int)\n",
    "groups[20:40] = 1\n",
    "groups[40:] = 2"
   ]
  },
  {
   "cell_type": "code",
   "execution_count": 59,
   "metadata": {},
   "outputs": [
    {
     "name": "stdout",
     "output_type": "stream",
     "text": [
      "\n",
      "    Construct a dummy matrix from categorical variables\n",
      "\n",
      "    Parameters\n",
      "    ----------\n",
      "    data : array_like\n",
      "        A structured array, recarray, array, Series or DataFrame.  This can be\n",
      "        either a 1d vector of the categorical variable or a 2d array with\n",
      "        the column specifying the categorical variable specified by the col\n",
      "        argument.\n",
      "    col : {str, int, None}\n",
      "        If data is a DataFrame col must in a column of data. If data is a\n",
      "        Series, col must be either the name of the Series or None. If data is a\n",
      "        structured array or a recarray, `col` can be a string that is the name\n",
      "        of the column that contains the variable.  For all other\n",
      "        arrays `col` can be an int that is the (zero-based) column index\n",
      "        number.  `col` can only be None for a 1d array.  The default is None.\n",
      "    dictnames : bool, optional\n",
      "        If True, a dictionary mapping the column number to the categorical\n",
      "        name is returned.  Used to have information about plain arrays.\n",
      "    drop : bool\n",
      "        Whether or not keep the categorical variable in the returned matrix.\n",
      "\n",
      "    Returns\n",
      "    -------\n",
      "    dummy_matrix : array_like\n",
      "        A matrix of dummy (indicator/binary) float variables for the\n",
      "        categorical data.\n",
      "    dictnames :  dict[int, str], optional\n",
      "        Mapping between column numbers and categorical names.\n",
      "\n",
      "    Notes\n",
      "    -----\n",
      "    This returns a dummy variable for *each* distinct variable.  If a\n",
      "    a structured or recarray is provided, the names for the new variable is the\n",
      "    old variable name - underscore - category name.  So if the a variable\n",
      "    'vote' had answers as 'yes' or 'no' then the returned array would have to\n",
      "    new variables-- 'vote_yes' and 'vote_no'.  There is currently\n",
      "    no name checking.\n",
      "\n",
      "    Examples\n",
      "    --------\n",
      "    >>> import numpy as np\n",
      "    >>> import statsmodels.api as sm\n",
      "\n",
      "    Univariate examples\n",
      "\n",
      "    >>> import string\n",
      "    >>> string_var = [string.ascii_lowercase[0:5],\n",
      "    ...               string.ascii_lowercase[5:10],\n",
      "    ...               string.ascii_lowercase[10:15],\n",
      "    ...               string.ascii_lowercase[15:20],\n",
      "    ...               string.ascii_lowercase[20:25]]\n",
      "    >>> string_var *= 5\n",
      "    >>> string_var = np.asarray(sorted(string_var))\n",
      "    >>> design = sm.tools.categorical(string_var, drop=True)\n",
      "\n",
      "    Or for a numerical categorical variable\n",
      "\n",
      "    >>> instr = np.floor(np.arange(10,60, step=2)/10)\n",
      "    >>> design = sm.tools.categorical(instr, drop=True)\n",
      "\n",
      "    With a structured array\n",
      "\n",
      "    >>> num = np.random.randn(25,2)\n",
      "    >>> struct_ar = np.zeros((25,1),\n",
      "    ...                      dtype=[('var1', 'f4'),('var2', 'f4'),\n",
      "    ...                             ('instrument','f4'),('str_instr','a5')])\n",
      "    >>> struct_ar['var1'] = num[:,0][:,None]\n",
      "    >>> struct_ar['var2'] = num[:,1][:,None]\n",
      "    >>> struct_ar['instrument'] = instr[:,None]\n",
      "    >>> struct_ar['str_instr'] = string_var[:,None]\n",
      "    >>> design = sm.tools.categorical(struct_ar, col='instrument', drop=True)\n",
      "\n",
      "    Or\n",
      "\n",
      "    >>> design2 = sm.tools.categorical(struct_ar, col='str_instr', drop=True)\n",
      "    \n"
     ]
    }
   ],
   "source": [
    "print(sm.categorical.__doc__)"
   ]
  },
  {
   "cell_type": "markdown",
   "metadata": {},
   "source": [
    "sm.categorical 从分类变量构造一个哑变量矩阵"
   ]
  },
  {
   "cell_type": "code",
   "execution_count": 60,
   "metadata": {},
   "outputs": [],
   "source": [
    "dummy = sm.categorical(groups, drop=True)"
   ]
  },
  {
   "cell_type": "code",
   "execution_count": 61,
   "metadata": {},
   "outputs": [
    {
     "data": {
      "text/plain": [
       "array([[1., 0., 0.],\n",
       "       [1., 0., 0.],\n",
       "       [1., 0., 0.],\n",
       "       [1., 0., 0.],\n",
       "       [1., 0., 0.],\n",
       "       [1., 0., 0.],\n",
       "       [1., 0., 0.],\n",
       "       [1., 0., 0.],\n",
       "       [1., 0., 0.],\n",
       "       [1., 0., 0.],\n",
       "       [1., 0., 0.],\n",
       "       [1., 0., 0.],\n",
       "       [1., 0., 0.],\n",
       "       [1., 0., 0.],\n",
       "       [1., 0., 0.],\n",
       "       [1., 0., 0.],\n",
       "       [1., 0., 0.],\n",
       "       [1., 0., 0.],\n",
       "       [1., 0., 0.],\n",
       "       [1., 0., 0.],\n",
       "       [0., 1., 0.],\n",
       "       [0., 1., 0.],\n",
       "       [0., 1., 0.],\n",
       "       [0., 1., 0.],\n",
       "       [0., 1., 0.],\n",
       "       [0., 1., 0.],\n",
       "       [0., 1., 0.],\n",
       "       [0., 1., 0.],\n",
       "       [0., 1., 0.],\n",
       "       [0., 1., 0.],\n",
       "       [0., 1., 0.],\n",
       "       [0., 1., 0.],\n",
       "       [0., 1., 0.],\n",
       "       [0., 1., 0.],\n",
       "       [0., 1., 0.],\n",
       "       [0., 1., 0.],\n",
       "       [0., 1., 0.],\n",
       "       [0., 1., 0.],\n",
       "       [0., 1., 0.],\n",
       "       [0., 1., 0.],\n",
       "       [0., 0., 1.],\n",
       "       [0., 0., 1.],\n",
       "       [0., 0., 1.],\n",
       "       [0., 0., 1.],\n",
       "       [0., 0., 1.],\n",
       "       [0., 0., 1.],\n",
       "       [0., 0., 1.],\n",
       "       [0., 0., 1.],\n",
       "       [0., 0., 1.],\n",
       "       [0., 0., 1.]])"
      ]
     },
     "execution_count": 61,
     "metadata": {},
     "output_type": "execute_result"
    }
   ],
   "source": [
    "dummy"
   ]
  },
  {
   "cell_type": "code",
   "execution_count": 70,
   "metadata": {},
   "outputs": [],
   "source": [
    "x = np.linspace(0, 20, nsample)\n",
    "# drop reference category\n",
    "X = np.column_stack((x, dummy[:,1:]))\n",
    "X = sm.add_constant(X, prepend=False)\n",
    "\n",
    "beta = [1., 3, -3, 10]\n",
    "y_true = np.dot(X, beta)\n",
    "e = np.random.randn(nsample)\n",
    "y = y_true + e"
   ]
  },
  {
   "cell_type": "code",
   "execution_count": 72,
   "metadata": {},
   "outputs": [
    {
     "data": {
      "text/plain": [
       "[<matplotlib.lines.Line2D at 0x1cbee160>]"
      ]
     },
     "execution_count": 72,
     "metadata": {},
     "output_type": "execute_result"
    },
    {
     "data": {
      "image/png": "[encoded data removed]",
      "text/plain": [
       "<Figure size 432x288 with 1 Axes>"
      ]
     },
     "metadata": {
      "needs_background": "light"
     },
     "output_type": "display_data"
    }
   ],
   "source": [
    "plt.plot(x,y,'o')"
   ]
  },
  {
   "cell_type": "code",
   "execution_count": 73,
   "metadata": {},
   "outputs": [
    {
     "name": "stdout",
     "output_type": "stream",
     "text": [
      "                            OLS Regression Results                            \n",
      "==============================================================================\n",
      "Dep. Variable:                      y   R-squared:                       0.969\n",
      "Model:                            OLS   Adj. R-squared:                  0.967\n",
      "Method:                 Least Squares   F-statistic:                     476.3\n",
      "Date:                Thu, 18 Jun 2020   Prob (F-statistic):           1.25e-34\n",
      "Time:                        11:30:24   Log-Likelihood:                -74.587\n",
      "No. Observations:                  50   AIC:                             157.2\n",
      "Df Residuals:                      46   BIC:                             164.8\n",
      "Df Model:                           3                                         \n",
      "Covariance Type:            nonrobust                                         \n",
      "==============================================================================\n",
      "                 coef    std err          t      P>|t|      [0.025      0.975]\n",
      "------------------------------------------------------------------------------\n",
      "x1             1.0072      0.073     13.779      0.000       0.860       1.154\n",
      "x2             3.1243      0.694      4.501      0.000       1.727       4.521\n",
      "x3            -2.9026      1.131     -2.566      0.014      -5.179      -0.626\n",
      "const          9.8652      0.378     26.069      0.000       9.104      10.627\n",
      "==============================================================================\n",
      "Omnibus:                        0.609   Durbin-Watson:                   2.390\n",
      "Prob(Omnibus):                  0.737   Jarque-Bera (JB):                0.325\n",
      "Skew:                          -0.197   Prob(JB):                        0.850\n",
      "Kurtosis:                       3.024   Cond. No.                         96.3\n",
      "==============================================================================\n",
      "\n",
      "Warnings:\n",
      "[1] Standard Errors assume that the covariance matrix of the errors is correctly specified.\n"
     ]
    }
   ],
   "source": [
    "res2 = sm.OLS(y, X).fit()\n",
    "print(res2.summary())"
   ]
  },
  {
   "cell_type": "code",
   "execution_count": 74,
   "metadata": {},
   "outputs": [
    {
     "data": {
      "image/png": "[encoded data removed]",
      "text/plain": [
       "<Figure size 576x432 with 1 Axes>"
      ]
     },
     "metadata": {
      "needs_background": "light"
     },
     "output_type": "display_data"
    }
   ],
   "source": [
    "\n",
    "prstd, iv_l, iv_u = wls_prediction_std(res2)\n",
    "\n",
    "fig, ax = plt.subplots(figsize=(8,6))\n",
    "\n",
    "ax.plot(x, y, 'o', label=\"Data\")\n",
    "ax.plot(x, y_true, 'b-', label=\"True\")\n",
    "ax.plot(x, res2.fittedvalues, 'r--.', label=\"Predicted\")\n",
    "ax.plot(x, iv_u, 'r--')\n",
    "ax.plot(x, iv_l, 'r--')\n",
    "legend = ax.legend(loc=\"best\")"
   ]
  },
  {
   "cell_type": "markdown",
   "metadata": {},
   "source": [
    "### 联合假设检验"
   ]
  },
  {
   "cell_type": "markdown",
   "metadata": {},
   "source": [
    "我们想检验假设分类变量的两个系数都等于零，也就是说,R×β= 0。通过F检验，我们在3组中强烈拒绝相同常数的原假设:"
   ]
  },
  {
   "cell_type": "code",
   "execution_count": 84,
   "metadata": {},
   "outputs": [
    {
     "name": "stdout",
     "output_type": "stream",
     "text": [
      "[[0 1 0 0]\n",
      " [0 0 1 0]]\n",
      "<F test: F=array([[99.48804812]]), p=1.9660058436530386e-17, df_denom=46, df_num=2>\n"
     ]
    }
   ],
   "source": [
    "R = [[0, 1, 0, 0], [0, 0, 1, 0]]\n",
    "print(np.array(R))\n",
    "print(res2.f_test(R))"
   ]
  },
  {
   "cell_type": "markdown",
   "metadata": {},
   "source": [
    "公式形式："
   ]
  },
  {
   "cell_type": "code",
   "execution_count": 79,
   "metadata": {},
   "outputs": [
    {
     "data": {
      "text/plain": [
       "<class 'statsmodels.stats.contrast.ContrastResults'>\n",
       "<F test: F=array([[99.48804812]]), p=1.9660058436529384e-17, df_denom=46, df_num=2>"
      ]
     },
     "execution_count": 79,
     "metadata": {},
     "output_type": "execute_result"
    }
   ],
   "source": [
    "res2.f_test('x2 = x3 = 0')"
   ]
  },
  {
   "cell_type": "code",
   "execution_count": 81,
   "metadata": {},
   "outputs": [
    {
     "data": {
      "text/plain": [
       "<class 'statsmodels.stats.contrast.ContrastResults'>\n",
       "<F test: F=array([[20.26028877]]), p=4.5866282723344e-05, df_denom=46, df_num=1>"
      ]
     },
     "execution_count": 81,
     "metadata": {},
     "output_type": "execute_result"
    }
   ],
   "source": [
    "res2.f_test('x2 = 0')"
   ]
  },
  {
   "cell_type": "code",
   "execution_count": 85,
   "metadata": {},
   "outputs": [
    {
     "name": "stdout",
     "output_type": "stream",
     "text": [
      "\n",
      "        Compute the F-test for a joint linear hypothesis.\n",
      "\n",
      "        This is a special case of `wald_test` that always uses the F\n",
      "        distribution.\n",
      "\n",
      "        Parameters\n",
      "        ----------\n",
      "        r_matrix : {array_like, str, tuple}\n",
      "            One of:\n",
      "\n",
      "            - array : An r x k array where r is the number of restrictions to\n",
      "              test and k is the number of regressors. It is assumed\n",
      "              that the linear combination is equal to zero.\n",
      "            - str : The full hypotheses to test can be given as a string.\n",
      "              See the examples.\n",
      "            - tuple : A tuple of arrays in the form (R, q), ``q`` can be\n",
      "              either a scalar or a length k row vector.\n",
      "\n",
      "        cov_p : array_like, optional\n",
      "            An alternative estimate for the parameter covariance matrix.\n",
      "            If None is given, self.normalized_cov_params is used.\n",
      "        scale : float, optional\n",
      "            Default is 1.0 for no scaling.\n",
      "\n",
      "            .. deprecated:: 0.10.0\n",
      "\n",
      "        invcov : array_like, optional\n",
      "            A q x q array to specify an inverse covariance matrix based on a\n",
      "            restrictions matrix.\n",
      "\n",
      "        Returns\n",
      "        -------\n",
      "        ContrastResults\n",
      "            The results for the test are attributes of this results instance.\n",
      "\n",
      "        See Also\n",
      "        --------\n",
      "        t_test : Perform a single hypothesis test.\n",
      "        wald_test : Perform a Wald-test using a quadratic form.\n",
      "        statsmodels.stats.contrast.ContrastResults : Test results.\n",
      "        patsy.DesignInfo.linear_constraint : Specify a linear constraint.\n",
      "\n",
      "        Notes\n",
      "        -----\n",
      "        The matrix `r_matrix` is assumed to be non-singular. More precisely,\n",
      "\n",
      "        r_matrix (pX pX.T) r_matrix.T\n",
      "\n",
      "        is assumed invertible. Here, pX is the generalized inverse of the\n",
      "        design matrix of the model. There can be problems in non-OLS models\n",
      "        where the rank of the covariance of the noise is not full.\n",
      "\n",
      "        Examples\n",
      "        --------\n",
      "        >>> import numpy as np\n",
      "        >>> import statsmodels.api as sm\n",
      "        >>> data = sm.datasets.longley.load(as_pandas=False)\n",
      "        >>> data.exog = sm.add_constant(data.exog)\n",
      "        >>> results = sm.OLS(data.endog, data.exog).fit()\n",
      "        >>> A = np.identity(len(results.params))\n",
      "        >>> A = A[1:,:]\n",
      "\n",
      "        This tests that each coefficient is jointly statistically\n",
      "        significantly different from zero.\n",
      "\n",
      "        >>> print(results.f_test(A))\n",
      "        <F test: F=array([[ 330.28533923]]), p=4.984030528700946e-10, df_denom=9, df_num=6>\n",
      "\n",
      "        Compare this to\n",
      "\n",
      "        >>> results.fvalue\n",
      "        330.2853392346658\n",
      "        >>> results.f_pvalue\n",
      "        4.98403096572e-10\n",
      "\n",
      "        >>> B = np.array(([0,0,1,-1,0,0,0],[0,0,0,0,0,1,-1]))\n",
      "\n",
      "        This tests that the coefficient on the 2nd and 3rd regressors are\n",
      "        equal and jointly that the coefficient on the 5th and 6th regressors\n",
      "        are equal.\n",
      "\n",
      "        >>> print(results.f_test(B))\n",
      "        <F test: F=array([[ 9.74046187]]), p=0.005605288531708235, df_denom=9, df_num=2>\n",
      "\n",
      "        Alternatively, you can specify the hypothesis tests using a string\n",
      "\n",
      "        >>> from statsmodels.datasets import longley\n",
      "        >>> from statsmodels.formula.api import ols\n",
      "        >>> dta = longley.load_pandas().data\n",
      "        >>> formula = 'TOTEMP ~ GNPDEFL + GNP + UNEMP + ARMED + POP + YEAR'\n",
      "        >>> results = ols(formula, dta).fit()\n",
      "        >>> hypotheses = '(GNPDEFL = GNP), (UNEMP = 2), (YEAR/1829 = 1)'\n",
      "        >>> f_test = results.f_test(hypotheses)\n",
      "        >>> print(f_test)\n",
      "        <F test: F=array([[ 144.17976065]]), p=6.322026217355609e-08, df_denom=9, df_num=3>\n",
      "        \n"
     ]
    }
   ],
   "source": [
    "print(res2.f_test.__doc__)"
   ]
  },
  {
   "cell_type": "markdown",
   "metadata": {},
   "source": [
    "### 多重共线性"
   ]
  },
  {
   "cell_type": "markdown",
   "metadata": {},
   "source": [
    "多重共线性：也就是说，外源性预测因子是高度相关的。这是有问题的，因为当我们对模型规格做微小的更改时，它会影响系数估计的稳定性。"
   ]
  },
  {
   "cell_type": "code",
   "execution_count": 86,
   "metadata": {},
   "outputs": [],
   "source": [
    "from statsmodels.datasets.longley import load_pandas\n",
    "y = load_pandas().endog\n",
    "X = load_pandas().exog\n",
    "X = sm.add_constant(X)"
   ]
  },
  {
   "cell_type": "code",
   "execution_count": 89,
   "metadata": {},
   "outputs": [
    {
     "data": {
      "text/html": [
       "<div>\n",
       "<style scoped>\n",
       "    .dataframe tbody tr th:only-of-type {\n",
       "        vertical-align: middle;\n",
       "    }\n",
       "\n",
       "    .dataframe tbody tr th {\n",
       "        vertical-align: top;\n",
       "    }\n",
       "\n",
       "    .dataframe thead th {\n",
       "        text-align: right;\n",
       "    }\n",
       "</style>\n",
       "<table border=\"1\" class=\"dataframe\">\n",
       "  <thead>\n",
       "    <tr style=\"text-align: right;\">\n",
       "      <th></th>\n",
       "      <th>const</th>\n",
       "      <th>GNPDEFL</th>\n",
       "      <th>GNP</th>\n",
       "      <th>UNEMP</th>\n",
       "      <th>ARMED</th>\n",
       "      <th>POP</th>\n",
       "      <th>YEAR</th>\n",
       "    </tr>\n",
       "  </thead>\n",
       "  <tbody>\n",
       "    <tr>\n",
       "      <th>0</th>\n",
       "      <td>1.0</td>\n",
       "      <td>83.0</td>\n",
       "      <td>234289.0</td>\n",
       "      <td>2356.0</td>\n",
       "      <td>1590.0</td>\n",
       "      <td>107608.0</td>\n",
       "      <td>1947.0</td>\n",
       "    </tr>\n",
       "    <tr>\n",
       "      <th>1</th>\n",
       "      <td>1.0</td>\n",
       "      <td>88.5</td>\n",
       "      <td>259426.0</td>\n",
       "      <td>2325.0</td>\n",
       "      <td>1456.0</td>\n",
       "      <td>108632.0</td>\n",
       "      <td>1948.0</td>\n",
       "    </tr>\n",
       "    <tr>\n",
       "      <th>2</th>\n",
       "      <td>1.0</td>\n",
       "      <td>88.2</td>\n",
       "      <td>258054.0</td>\n",
       "      <td>3682.0</td>\n",
       "      <td>1616.0</td>\n",
       "      <td>109773.0</td>\n",
       "      <td>1949.0</td>\n",
       "    </tr>\n",
       "    <tr>\n",
       "      <th>3</th>\n",
       "      <td>1.0</td>\n",
       "      <td>89.5</td>\n",
       "      <td>284599.0</td>\n",
       "      <td>3351.0</td>\n",
       "      <td>1650.0</td>\n",
       "      <td>110929.0</td>\n",
       "      <td>1950.0</td>\n",
       "    </tr>\n",
       "    <tr>\n",
       "      <th>4</th>\n",
       "      <td>1.0</td>\n",
       "      <td>96.2</td>\n",
       "      <td>328975.0</td>\n",
       "      <td>2099.0</td>\n",
       "      <td>3099.0</td>\n",
       "      <td>112075.0</td>\n",
       "      <td>1951.0</td>\n",
       "    </tr>\n",
       "    <tr>\n",
       "      <th>5</th>\n",
       "      <td>1.0</td>\n",
       "      <td>98.1</td>\n",
       "      <td>346999.0</td>\n",
       "      <td>1932.0</td>\n",
       "      <td>3594.0</td>\n",
       "      <td>113270.0</td>\n",
       "      <td>1952.0</td>\n",
       "    </tr>\n",
       "    <tr>\n",
       "      <th>6</th>\n",
       "      <td>1.0</td>\n",
       "      <td>99.0</td>\n",
       "      <td>365385.0</td>\n",
       "      <td>1870.0</td>\n",
       "      <td>3547.0</td>\n",
       "      <td>115094.0</td>\n",
       "      <td>1953.0</td>\n",
       "    </tr>\n",
       "    <tr>\n",
       "      <th>7</th>\n",
       "      <td>1.0</td>\n",
       "      <td>100.0</td>\n",
       "      <td>363112.0</td>\n",
       "      <td>3578.0</td>\n",
       "      <td>3350.0</td>\n",
       "      <td>116219.0</td>\n",
       "      <td>1954.0</td>\n",
       "    </tr>\n",
       "    <tr>\n",
       "      <th>8</th>\n",
       "      <td>1.0</td>\n",
       "      <td>101.2</td>\n",
       "      <td>397469.0</td>\n",
       "      <td>2904.0</td>\n",
       "      <td>3048.0</td>\n",
       "      <td>117388.0</td>\n",
       "      <td>1955.0</td>\n",
       "    </tr>\n",
       "    <tr>\n",
       "      <th>9</th>\n",
       "      <td>1.0</td>\n",
       "      <td>104.6</td>\n",
       "      <td>419180.0</td>\n",
       "      <td>2822.0</td>\n",
       "      <td>2857.0</td>\n",
       "      <td>118734.0</td>\n",
       "      <td>1956.0</td>\n",
       "    </tr>\n",
       "    <tr>\n",
       "      <th>10</th>\n",
       "      <td>1.0</td>\n",
       "      <td>108.4</td>\n",
       "      <td>442769.0</td>\n",
       "      <td>2936.0</td>\n",
       "      <td>2798.0</td>\n",
       "      <td>120445.0</td>\n",
       "      <td>1957.0</td>\n",
       "    </tr>\n",
       "    <tr>\n",
       "      <th>11</th>\n",
       "      <td>1.0</td>\n",
       "      <td>110.8</td>\n",
       "      <td>444546.0</td>\n",
       "      <td>4681.0</td>\n",
       "      <td>2637.0</td>\n",
       "      <td>121950.0</td>\n",
       "      <td>1958.0</td>\n",
       "    </tr>\n",
       "    <tr>\n",
       "      <th>12</th>\n",
       "      <td>1.0</td>\n",
       "      <td>112.6</td>\n",
       "      <td>482704.0</td>\n",
       "      <td>3813.0</td>\n",
       "      <td>2552.0</td>\n",
       "      <td>123366.0</td>\n",
       "      <td>1959.0</td>\n",
       "    </tr>\n",
       "    <tr>\n",
       "      <th>13</th>\n",
       "      <td>1.0</td>\n",
       "      <td>114.2</td>\n",
       "      <td>502601.0</td>\n",
       "      <td>3931.0</td>\n",
       "      <td>2514.0</td>\n",
       "      <td>125368.0</td>\n",
       "      <td>1960.0</td>\n",
       "    </tr>\n",
       "    <tr>\n",
       "      <th>14</th>\n",
       "      <td>1.0</td>\n",
       "      <td>115.7</td>\n",
       "      <td>518173.0</td>\n",
       "      <td>4806.0</td>\n",
       "      <td>2572.0</td>\n",
       "      <td>127852.0</td>\n",
       "      <td>1961.0</td>\n",
       "    </tr>\n",
       "    <tr>\n",
       "      <th>15</th>\n",
       "      <td>1.0</td>\n",
       "      <td>116.9</td>\n",
       "      <td>554894.0</td>\n",
       "      <td>4007.0</td>\n",
       "      <td>2827.0</td>\n",
       "      <td>130081.0</td>\n",
       "      <td>1962.0</td>\n",
       "    </tr>\n",
       "  </tbody>\n",
       "</table>\n",
       "</div>"
      ],
      "text/plain": [
       "    const  GNPDEFL       GNP   UNEMP   ARMED       POP    YEAR\n",
       "0     1.0     83.0  234289.0  2356.0  1590.0  107608.0  1947.0\n",
       "1     1.0     88.5  259426.0  2325.0  1456.0  108632.0  1948.0\n",
       "2     1.0     88.2  258054.0  3682.0  1616.0  109773.0  1949.0\n",
       "3     1.0     89.5  284599.0  3351.0  1650.0  110929.0  1950.0\n",
       "4     1.0     96.2  328975.0  2099.0  3099.0  112075.0  1951.0\n",
       "5     1.0     98.1  346999.0  1932.0  3594.0  113270.0  1952.0\n",
       "6     1.0     99.0  365385.0  1870.0  3547.0  115094.0  1953.0\n",
       "7     1.0    100.0  363112.0  3578.0  3350.0  116219.0  1954.0\n",
       "8     1.0    101.2  397469.0  2904.0  3048.0  117388.0  1955.0\n",
       "9     1.0    104.6  419180.0  2822.0  2857.0  118734.0  1956.0\n",
       "10    1.0    108.4  442769.0  2936.0  2798.0  120445.0  1957.0\n",
       "11    1.0    110.8  444546.0  4681.0  2637.0  121950.0  1958.0\n",
       "12    1.0    112.6  482704.0  3813.0  2552.0  123366.0  1959.0\n",
       "13    1.0    114.2  502601.0  3931.0  2514.0  125368.0  1960.0\n",
       "14    1.0    115.7  518173.0  4806.0  2572.0  127852.0  1961.0\n",
       "15    1.0    116.9  554894.0  4007.0  2827.0  130081.0  1962.0"
      ]
     },
     "execution_count": 89,
     "metadata": {},
     "output_type": "execute_result"
    }
   ],
   "source": [
    "X"
   ]
  },
  {
   "cell_type": "code",
   "execution_count": 90,
   "metadata": {},
   "outputs": [
    {
     "name": "stdout",
     "output_type": "stream",
     "text": [
      "                            OLS Regression Results                            \n",
      "==============================================================================\n",
      "Dep. Variable:                 TOTEMP   R-squared:                       0.995\n",
      "Model:                            OLS   Adj. R-squared:                  0.992\n",
      "Method:                 Least Squares   F-statistic:                     330.3\n",
      "Date:                Thu, 18 Jun 2020   Prob (F-statistic):           4.98e-10\n",
      "Time:                        14:29:53   Log-Likelihood:                -109.62\n",
      "No. Observations:                  16   AIC:                             233.2\n",
      "Df Residuals:                       9   BIC:                             238.6\n",
      "Df Model:                           6                                         \n",
      "Covariance Type:            nonrobust                                         \n",
      "==============================================================================\n",
      "                 coef    std err          t      P>|t|      [0.025      0.975]\n",
      "------------------------------------------------------------------------------\n",
      "const      -3.482e+06    8.9e+05     -3.911      0.004    -5.5e+06   -1.47e+06\n",
      "GNPDEFL       15.0619     84.915      0.177      0.863    -177.029     207.153\n",
      "GNP           -0.0358      0.033     -1.070      0.313      -0.112       0.040\n",
      "UNEMP         -2.0202      0.488     -4.136      0.003      -3.125      -0.915\n",
      "ARMED         -1.0332      0.214     -4.822      0.001      -1.518      -0.549\n",
      "POP           -0.0511      0.226     -0.226      0.826      -0.563       0.460\n",
      "YEAR        1829.1515    455.478      4.016      0.003     798.788    2859.515\n",
      "==============================================================================\n",
      "Omnibus:                        0.749   Durbin-Watson:                   2.559\n",
      "Prob(Omnibus):                  0.688   Jarque-Bera (JB):                0.684\n",
      "Skew:                           0.420   Prob(JB):                        0.710\n",
      "Kurtosis:                       2.434   Cond. No.                     4.86e+09\n",
      "==============================================================================\n",
      "\n",
      "Warnings:\n",
      "[1] Standard Errors assume that the covariance matrix of the errors is correctly specified.\n",
      "[2] The condition number is large, 4.86e+09. This might indicate that there are\n",
      "strong multicollinearity or other numerical problems.\n"
     ]
    },
    {
     "name": "stderr",
     "output_type": "stream",
     "text": [
      "c:\\users\\administrator\\appdata\\local\\programs\\python\\python37\\lib\\site-packages\\scipy\\stats\\stats.py:1416: UserWarning: kurtosistest only valid for n>=20 ... continuing anyway, n=16\n",
      "  \"anyway, n=%i\" % int(n))\n"
     ]
    }
   ],
   "source": [
    "ols_model = sm.OLS(y,X)\n",
    "ols_res = ols_model.fit()\n",
    "print(ols_res.summary())"
   ]
  },
  {
   "cell_type": "markdown",
   "metadata": {},
   "source": [
    "评估多重共线性的一种方法是计算条件数。数值超过20就令人担忧了(见Greene 4.9)。第一步是对自变量进行归一化，使其具有单位长度:"
   ]
  },
  {
   "cell_type": "code",
   "execution_count": 99,
   "metadata": {
    "scrolled": false
   },
   "outputs": [],
   "source": [
    "norm_x = X.values\n",
    "for i, name in enumerate(X):\n",
    "    if name == \"const\":\n",
    "        continue\n",
    "    norm_x[:,i] = X[name]/np.linalg.norm(X[name])\n",
    "norm_xtx = np.dot(norm_x.T,norm_x)"
   ]
  },
  {
   "cell_type": "markdown",
   "metadata": {},
   "source": [
    "然后，我们取最大特征值与最小特征值之比的平方根。"
   ]
  },
  {
   "cell_type": "code",
   "execution_count": 100,
   "metadata": {},
   "outputs": [
    {
     "name": "stdout",
     "output_type": "stream",
     "text": [
      "56240.87037739987\n"
     ]
    }
   ],
   "source": [
    "eigs = np.linalg.eigvals(norm_xtx)\n",
    "condition_number = np.sqrt(eigs.max() / eigs.min())\n",
    "print(condition_number)"
   ]
  },
  {
   "cell_type": "markdown",
   "metadata": {},
   "source": [
    "格林还指出，放弃一个观测值会对系数估计产生戏剧性的影响:"
   ]
  },
  {
   "cell_type": "code",
   "execution_count": 102,
   "metadata": {},
   "outputs": [
    {
     "name": "stdout",
     "output_type": "stream",
     "text": [
      "Percentage change 4.55%\n",
      "Percentage change -2228.01%\n",
      "Percentage change 154304695.31%\n",
      "Percentage change 1366329.02%\n",
      "Percentage change 1112549.36%\n",
      "Percentage change 92708715.91%\n",
      "Percentage change 817944.26%\n",
      "\n"
     ]
    }
   ],
   "source": [
    "ols_results2 = sm.OLS(y.iloc[:14], X.iloc[:14]).fit()\n",
    "print(\"Percentage change %4.2f%%\\n\"*7 % tuple([i for i in (ols_results2.params - ols_res.params)/ols_res.params*100]))"
   ]
  },
  {
   "cell_type": "markdown",
   "metadata": {},
   "source": [
    "我们还可以查看一些正式的统计数据，比如DFBETAS——一种标准化的测量方法，用来测量当忽略观测值时，每个系数的变化程度。"
   ]
  },
  {
   "cell_type": "code",
   "execution_count": 107,
   "metadata": {},
   "outputs": [
    {
     "name": "stderr",
     "output_type": "stream",
     "text": [
      "c:\\users\\administrator\\appdata\\local\\programs\\python\\python37\\lib\\site-packages\\statsmodels\\stats\\outliers_influence.py:693: RuntimeWarning: invalid value encountered in sqrt\n",
      "  return self.resid / sigma / np.sqrt(1 - hii)\n",
      "c:\\users\\administrator\\appdata\\local\\programs\\python\\python37\\lib\\site-packages\\scipy\\stats\\_distn_infrastructure.py:877: RuntimeWarning: invalid value encountered in greater\n",
      "  return (self.a < x) & (x < self.b)\n",
      "c:\\users\\administrator\\appdata\\local\\programs\\python\\python37\\lib\\site-packages\\scipy\\stats\\_distn_infrastructure.py:877: RuntimeWarning: invalid value encountered in less\n",
      "  return (self.a < x) & (x < self.b)\n",
      "c:\\users\\administrator\\appdata\\local\\programs\\python\\python37\\lib\\site-packages\\scipy\\stats\\_distn_infrastructure.py:1831: RuntimeWarning: invalid value encountered in less_equal\n",
      "  cond2 = cond0 & (x <= self.a)\n",
      "c:\\users\\administrator\\appdata\\local\\programs\\python\\python37\\lib\\site-packages\\statsmodels\\stats\\outliers_influence.py:733: RuntimeWarning: invalid value encountered in sqrt\n",
      "  dffits_ = self.resid_studentized_internal * np.sqrt(hii / (1 - hii))\n",
      "c:\\users\\administrator\\appdata\\local\\programs\\python\\python37\\lib\\site-packages\\statsmodels\\stats\\outliers_influence.py:761: RuntimeWarning: invalid value encountered in sqrt\n",
      "  dffits_ = self.resid_studentized_external * np.sqrt(hii / (1 - hii))\n"
     ]
    },
    {
     "data": {
      "text/html": [
       "<div>\n",
       "<style scoped>\n",
       "    .dataframe tbody tr th:only-of-type {\n",
       "        vertical-align: middle;\n",
       "    }\n",
       "\n",
       "    .dataframe tbody tr th {\n",
       "        vertical-align: top;\n",
       "    }\n",
       "\n",
       "    .dataframe thead th {\n",
       "        text-align: right;\n",
       "    }\n",
       "</style>\n",
       "<table border=\"1\" class=\"dataframe\">\n",
       "  <thead>\n",
       "    <tr style=\"text-align: right;\">\n",
       "      <th></th>\n",
       "      <th>dfb_const</th>\n",
       "      <th>dfb_GNPDEFL</th>\n",
       "      <th>dfb_GNP</th>\n",
       "      <th>dfb_UNEMP</th>\n",
       "      <th>dfb_ARMED</th>\n",
       "      <th>dfb_POP</th>\n",
       "      <th>dfb_YEAR</th>\n",
       "    </tr>\n",
       "  </thead>\n",
       "  <tbody>\n",
       "    <tr>\n",
       "      <th>0</th>\n",
       "      <td>-0.016406</td>\n",
       "      <td>-169.822675</td>\n",
       "      <td>1.673981e+06</td>\n",
       "      <td>54490.318088</td>\n",
       "      <td>51447.824036</td>\n",
       "      <td>207954.113589</td>\n",
       "      <td>-31969.158503</td>\n",
       "    </tr>\n",
       "    <tr>\n",
       "      <th>1</th>\n",
       "      <td>-0.020608</td>\n",
       "      <td>-187.251727</td>\n",
       "      <td>1.829990e+06</td>\n",
       "      <td>54495.312977</td>\n",
       "      <td>52659.808664</td>\n",
       "      <td>25343.938290</td>\n",
       "      <td>-29760.155888</td>\n",
       "    </tr>\n",
       "    <tr>\n",
       "      <th>2</th>\n",
       "      <td>-0.008382</td>\n",
       "      <td>-65.417834</td>\n",
       "      <td>1.587601e+06</td>\n",
       "      <td>52002.330476</td>\n",
       "      <td>49078.352378</td>\n",
       "      <td>107465.770565</td>\n",
       "      <td>-29593.195253</td>\n",
       "    </tr>\n",
       "    <tr>\n",
       "      <th>3</th>\n",
       "      <td>0.018093</td>\n",
       "      <td>288.503914</td>\n",
       "      <td>1.155359e+06</td>\n",
       "      <td>56211.331922</td>\n",
       "      <td>60350.723082</td>\n",
       "      <td>456190.215133</td>\n",
       "      <td>-36213.129569</td>\n",
       "    </tr>\n",
       "    <tr>\n",
       "      <th>4</th>\n",
       "      <td>1.871260</td>\n",
       "      <td>-171.109595</td>\n",
       "      <td>4.498197e+06</td>\n",
       "      <td>82532.785818</td>\n",
       "      <td>71034.429294</td>\n",
       "      <td>-389122.401699</td>\n",
       "      <td>-49905.782854</td>\n",
       "    </tr>\n",
       "    <tr>\n",
       "      <th>5</th>\n",
       "      <td>-0.321373</td>\n",
       "      <td>-104.123822</td>\n",
       "      <td>1.398891e+06</td>\n",
       "      <td>52559.760056</td>\n",
       "      <td>47486.527649</td>\n",
       "      <td>144354.586054</td>\n",
       "      <td>-28985.057609</td>\n",
       "    </tr>\n",
       "    <tr>\n",
       "      <th>6</th>\n",
       "      <td>0.315945</td>\n",
       "      <td>-169.413317</td>\n",
       "      <td>2.364827e+06</td>\n",
       "      <td>59754.651394</td>\n",
       "      <td>50371.817827</td>\n",
       "      <td>-107413.074918</td>\n",
       "      <td>-32984.462465</td>\n",
       "    </tr>\n",
       "    <tr>\n",
       "      <th>7</th>\n",
       "      <td>0.015816</td>\n",
       "      <td>-69.343793</td>\n",
       "      <td>1.641243e+06</td>\n",
       "      <td>51849.056936</td>\n",
       "      <td>48628.749338</td>\n",
       "      <td>92843.959345</td>\n",
       "      <td>-29724.975873</td>\n",
       "    </tr>\n",
       "    <tr>\n",
       "      <th>8</th>\n",
       "      <td>-0.004019</td>\n",
       "      <td>-86.903523</td>\n",
       "      <td>1.649443e+06</td>\n",
       "      <td>52023.265116</td>\n",
       "      <td>49114.178265</td>\n",
       "      <td>83931.635336</td>\n",
       "      <td>-29563.619222</td>\n",
       "    </tr>\n",
       "    <tr>\n",
       "      <th>9</th>\n",
       "      <td>-1.018242</td>\n",
       "      <td>-201.315802</td>\n",
       "      <td>1.371257e+06</td>\n",
       "      <td>56432.027292</td>\n",
       "      <td>53997.742487</td>\n",
       "      <td>18392.575057</td>\n",
       "      <td>-29203.217108</td>\n",
       "    </tr>\n",
       "    <tr>\n",
       "      <th>10</th>\n",
       "      <td>0.030947</td>\n",
       "      <td>-78.359439</td>\n",
       "      <td>1.658753e+06</td>\n",
       "      <td>52254.848135</td>\n",
       "      <td>49341.055289</td>\n",
       "      <td>93617.648517</td>\n",
       "      <td>-29846.022426</td>\n",
       "    </tr>\n",
       "    <tr>\n",
       "      <th>11</th>\n",
       "      <td>0.005987</td>\n",
       "      <td>-100.926843</td>\n",
       "      <td>1.662425e+06</td>\n",
       "      <td>51744.606934</td>\n",
       "      <td>48968.560299</td>\n",
       "      <td>95414.217290</td>\n",
       "      <td>-29690.904188</td>\n",
       "    </tr>\n",
       "    <tr>\n",
       "      <th>12</th>\n",
       "      <td>-0.135883</td>\n",
       "      <td>-32.093127</td>\n",
       "      <td>1.245487e+06</td>\n",
       "      <td>50203.467593</td>\n",
       "      <td>51148.376274</td>\n",
       "      <td>258559.048569</td>\n",
       "      <td>-29296.334617</td>\n",
       "    </tr>\n",
       "    <tr>\n",
       "      <th>13</th>\n",
       "      <td>0.032736</td>\n",
       "      <td>-78.513866</td>\n",
       "      <td>1.648417e+06</td>\n",
       "      <td>52509.194459</td>\n",
       "      <td>50212.844641</td>\n",
       "      <td>104434.061226</td>\n",
       "      <td>-30025.564763</td>\n",
       "    </tr>\n",
       "    <tr>\n",
       "      <th>14</th>\n",
       "      <td>0.305868</td>\n",
       "      <td>-16.833121</td>\n",
       "      <td>1.829996e+06</td>\n",
       "      <td>60975.868083</td>\n",
       "      <td>58263.878679</td>\n",
       "      <td>275103.677860</td>\n",
       "      <td>-36060.612522</td>\n",
       "    </tr>\n",
       "    <tr>\n",
       "      <th>15</th>\n",
       "      <td>-0.538323</td>\n",
       "      <td>102.027105</td>\n",
       "      <td>1.344844e+06</td>\n",
       "      <td>54721.897640</td>\n",
       "      <td>49660.474568</td>\n",
       "      <td>-110176.960671</td>\n",
       "      <td>-28053.834556</td>\n",
       "    </tr>\n",
       "  </tbody>\n",
       "</table>\n",
       "</div>"
      ],
      "text/plain": [
       "    dfb_const  dfb_GNPDEFL       dfb_GNP     dfb_UNEMP     dfb_ARMED  \\\n",
       "0   -0.016406  -169.822675  1.673981e+06  54490.318088  51447.824036   \n",
       "1   -0.020608  -187.251727  1.829990e+06  54495.312977  52659.808664   \n",
       "2   -0.008382   -65.417834  1.587601e+06  52002.330476  49078.352378   \n",
       "3    0.018093   288.503914  1.155359e+06  56211.331922  60350.723082   \n",
       "4    1.871260  -171.109595  4.498197e+06  82532.785818  71034.429294   \n",
       "5   -0.321373  -104.123822  1.398891e+06  52559.760056  47486.527649   \n",
       "6    0.315945  -169.413317  2.364827e+06  59754.651394  50371.817827   \n",
       "7    0.015816   -69.343793  1.641243e+06  51849.056936  48628.749338   \n",
       "8   -0.004019   -86.903523  1.649443e+06  52023.265116  49114.178265   \n",
       "9   -1.018242  -201.315802  1.371257e+06  56432.027292  53997.742487   \n",
       "10   0.030947   -78.359439  1.658753e+06  52254.848135  49341.055289   \n",
       "11   0.005987  -100.926843  1.662425e+06  51744.606934  48968.560299   \n",
       "12  -0.135883   -32.093127  1.245487e+06  50203.467593  51148.376274   \n",
       "13   0.032736   -78.513866  1.648417e+06  52509.194459  50212.844641   \n",
       "14   0.305868   -16.833121  1.829996e+06  60975.868083  58263.878679   \n",
       "15  -0.538323   102.027105  1.344844e+06  54721.897640  49660.474568   \n",
       "\n",
       "          dfb_POP      dfb_YEAR  \n",
       "0   207954.113589 -31969.158503  \n",
       "1    25343.938290 -29760.155888  \n",
       "2   107465.770565 -29593.195253  \n",
       "3   456190.215133 -36213.129569  \n",
       "4  -389122.401699 -49905.782854  \n",
       "5   144354.586054 -28985.057609  \n",
       "6  -107413.074918 -32984.462465  \n",
       "7    92843.959345 -29724.975873  \n",
       "8    83931.635336 -29563.619222  \n",
       "9    18392.575057 -29203.217108  \n",
       "10   93617.648517 -29846.022426  \n",
       "11   95414.217290 -29690.904188  \n",
       "12  258559.048569 -29296.334617  \n",
       "13  104434.061226 -30025.564763  \n",
       "14  275103.677860 -36060.612522  \n",
       "15 -110176.960671 -28053.834556  "
      ]
     },
     "execution_count": 107,
     "metadata": {},
     "output_type": "execute_result"
    }
   ],
   "source": [
    "ols_res.get_influence().summary_frame().filter(regex='dfb')"
   ]
  },
  {
   "cell_type": "markdown",
   "metadata": {},
   "source": [
    "一般来说，我们可以认为绝对值大于$2/\\sqrt{N}$的DFBETAS是有影响的观测"
   ]
  },
  {
   "cell_type": "markdown",
   "metadata": {},
   "source": [
    "计算VIF值，< 5 无明显共线性，> 5 & < 10共线性中等，>10共线性严重"
   ]
  },
  {
   "cell_type": "code",
   "execution_count": 129,
   "metadata": {},
   "outputs": [],
   "source": [
    "from statsmodels.stats.outliers_influence import variance_inflation_factor"
   ]
  },
  {
   "cell_type": "code",
   "execution_count": 130,
   "metadata": {},
   "outputs": [
    {
     "name": "stdout",
     "output_type": "stream",
     "text": [
      "0 136497961.8994227\n",
      "1 135.53243828002405\n",
      "2 1788.5134827186532\n",
      "3 33.61889059604986\n",
      "4 3.588930193444588\n",
      "5 399.1510223125613\n",
      "6 758.9805974073082\n"
     ]
    }
   ],
   "source": [
    "for i in np.arange(7):\n",
    "    print(i,variance_inflation_factor(X.values,i))"
   ]
  },
  {
   "cell_type": "code",
   "execution_count": null,
   "metadata": {},
   "outputs": [],
   "source": []
  }
 ],
 "metadata": {
  "kernelspec": {
   "display_name": "Python 3",
   "language": "python",
   "name": "python3"
  },
  "language_info": {
   "codemirror_mode": {
    "name": "ipython",
    "version": 3
   },
   "file_extension": ".py",
   "mimetype": "text/x-python",
   "name": "python",
   "nbconvert_exporter": "python",
   "pygments_lexer": "ipython3",
   "version": "3.7.2"
  }
 },
 "nbformat": 4,
 "nbformat_minor": 2
}
